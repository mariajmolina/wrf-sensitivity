{
 "cells": [
  {
   "cell_type": "code",
   "execution_count": 1,
   "metadata": {},
   "outputs": [],
   "source": [
    "import matplotlib.pyplot as plt\n",
    "import numpy as np\n",
    "from wrf import to_np, getvar, get_basemap, latlon_coords\n",
    "from netCDF4 import Dataset\n",
    "from metpy.plots import colortables\n",
    "from matplotlib import path\n",
    "import geopandas as gpd\n",
    "import shapely\n",
    "from matplotlib.patches import Polygon\n",
    "#import matplotlib.patches as mpatches\n",
    "from matplotlib.collections import PatchCollection\n",
    "from matplotlib.path import Path\n",
    "import matplotlib.patches as patches\n",
    "from descartes import PolygonPatch\n",
    "import xarray as xr\n",
    "from scipy.ndimage import gaussian_filter as gfilt"
   ]
  },
  {
   "cell_type": "code",
   "execution_count": 2,
   "metadata": {},
   "outputs": [],
   "source": [
    "#the control run\n",
    "wrf_control_orig_0 = 'wrf4km_ens_2'\n",
    "\n",
    "wrf_gombasn_cool_1 = 'wrf4km_sst_gombasin_cool_1'\n",
    "wrf_gombasn_cool_2 = 'wrf4km_sst_gombasin_cool_2'\n",
    "wrf_gomplum_cool_1 = 'wrf4km_sst_gomplume_cool_1'\n",
    "wrf_gomplum_cool_2 = 'wrf4km_sst_gomplume_cool_2'\n",
    "wrf_murgion_cool_1 = 'wrf4km_sst_muregion_cool_1'\n",
    "wrf_murgion_cool_2 = 'wrf4km_sst_muregion_cool_2'\n",
    "\n",
    "wrf_gombasn_warm_1 = 'wrf4km_sst_gombasin_warm_1'\n",
    "wrf_gombasn_warm_2 = 'wrf4km_sst_gombasin_warm_2'\n",
    "wrf_gomplum_warm_1 = 'wrf4km_sst_gomplume_warm_1'\n",
    "wrf_gomplum_warm_2 = 'wrf4km_sst_gomplume_warm_2'\n",
    "wrf_murgion_warm_1 = 'wrf4km_sst_muregion_warm_1'\n",
    "wrf_murgion_warm_2 = 'wrf4km_sst_muregion_warm_2'\n",
    "\n",
    "UH_thresholds = np.array([60])\n",
    "dbz_thresholds = np.array([50])\n",
    "\n",
    "mask_data = xr.open_dataset('/glade/work/molina/DATA/usstates_shapefiles/conus_mask_res_80.nc')\n",
    "\n",
    "\n",
    "def percent_change(data1,data2,data_mask):\n",
    "   \n",
    "    return np.divide((data1.UHdbz.where(data_mask.conus.values, 0).sum()-\n",
    "                       data2.UHdbz_nomask.where(data_mask.conus.values, 0).sum()),\n",
    "                       data2.UHdbz_nomask.where(data_mask.conus.values, 0).sum())*100\n",
    "\n",
    "\n",
    "def percent_change_scalar(data1,data2):\n",
    "   \n",
    "    return np.divide((data1-data2),data2)*100"
   ]
  },
  {
   "cell_type": "code",
   "execution_count": 3,
   "metadata": {},
   "outputs": [],
   "source": [
    "UH_threshold = 60\n",
    "dbz_threshold = 50\n",
    "\n",
    "\n",
    "control_orig_0=xr.open_dataset('/glade/work/molina/DATA/jan2017_synoptic/'+wrf_control_orig_0+'/newver_grid_80_UH_'+str(UH_threshold)+'_Z_'+str(dbz_threshold)+'.nc')\n",
    "new_control_orig_0 = np.where(mask_data.conus.values,control_orig_0.UHdbz_dates.resample(time='12H',base=9).sum('time'),0)\n",
    "\n",
    "gombasn_cool_1=xr.open_dataset('/glade/scratch/molina/WRF_HYSPLIT_proj/'+wrf_gombasn_cool_1+'/ver_grid_80_UH_'+str(UH_threshold)+'_Z_'+str(dbz_threshold)+'.nc')\n",
    "new_gombasn_cool_1 = np.where(mask_data.conus.values,gombasn_cool_1.UHdbz_dates.resample(time='12H',base=9).sum('time'),0)\n",
    "\n",
    "gombasn_cool_2=xr.open_dataset('/glade/scratch/molina/WRF_HYSPLIT_proj/'+wrf_gombasn_cool_2+'/ver_grid_80_UH_'+str(UH_threshold)+'_Z_'+str(dbz_threshold)+'.nc')\n",
    "new_gombasn_cool_2 = np.where(mask_data.conus.values,gombasn_cool_2.UHdbz_dates.resample(time='12H',base=9).sum('time'),0)\n",
    "\n",
    "gomplum_cool_1=xr.open_dataset('/glade/scratch/molina/WRF_HYSPLIT_proj/'+wrf_gomplum_cool_1+'/ver_grid_80_UH_'+str(UH_threshold)+'_Z_'+str(dbz_threshold)+'.nc')\n",
    "new_gomplum_cool_1 = np.where(mask_data.conus.values,gomplum_cool_1.UHdbz_dates.resample(time='12H',base=9).sum('time'),0)\n",
    "\n",
    "gomplum_cool_2=xr.open_dataset('/glade/scratch/molina/WRF_HYSPLIT_proj/'+wrf_gomplum_cool_2+'/ver_grid_80_UH_'+str(UH_threshold)+'_Z_'+str(dbz_threshold)+'.nc')\n",
    "new_gomplum_cool_2 = np.where(mask_data.conus.values,gomplum_cool_2.UHdbz_dates.resample(time='12H',base=9).sum('time'),0)\n",
    "\n",
    "murgion_cool_1=xr.open_dataset('/glade/scratch/molina/WRF_HYSPLIT_proj/'+wrf_murgion_cool_1+'/ver_grid_80_UH_'+str(UH_threshold)+'_Z_'+str(dbz_threshold)+'.nc')\n",
    "new_murgion_cool_1 = np.where(mask_data.conus.values,murgion_cool_1.UHdbz_dates.resample(time='12H',base=9).sum('time'),0)\n",
    "\n",
    "murgion_cool_2=xr.open_dataset('/glade/scratch/molina/WRF_HYSPLIT_proj/'+wrf_murgion_cool_2+'/ver_grid_80_UH_'+str(UH_threshold)+'_Z_'+str(dbz_threshold)+'.nc')\n",
    "new_murgion_cool_2 = np.where(mask_data.conus.values,murgion_cool_2.UHdbz_dates.resample(time='12H',base=9).sum('time'),0)\n",
    "\n",
    "gombasn_warm_1=xr.open_dataset('/glade/scratch/molina/WRF_HYSPLIT_proj/'+wrf_gombasn_warm_1+'/ver_grid_80_UH_'+str(UH_threshold)+'_Z_'+str(dbz_threshold)+'.nc')\n",
    "new_gombasn_warm_1 = np.where(mask_data.conus.values,gombasn_warm_1.UHdbz_dates.resample(time='12H',base=9).sum('time'),0)\n",
    "\n",
    "gombasn_warm_2=xr.open_dataset('/glade/scratch/molina/WRF_HYSPLIT_proj/'+wrf_gombasn_warm_2+'/ver_grid_80_UH_'+str(UH_threshold)+'_Z_'+str(dbz_threshold)+'.nc')\n",
    "new_gombasn_warm_2 = np.where(mask_data.conus.values,gombasn_warm_2.UHdbz_dates.resample(time='12H',base=9).sum('time'),0)\n",
    "\n",
    "gomplum_warm_1=xr.open_dataset('/glade/scratch/molina/WRF_HYSPLIT_proj/'+wrf_gomplum_warm_1+'/ver_grid_80_UH_'+str(UH_threshold)+'_Z_'+str(dbz_threshold)+'.nc')\n",
    "new_gomplum_warm_1 = np.where(mask_data.conus.values,gomplum_warm_1.UHdbz_dates.resample(time='12H',base=9).sum('time'),0)\n",
    "\n",
    "gomplum_warm_2=xr.open_dataset('/glade/scratch/molina/WRF_HYSPLIT_proj/'+wrf_gomplum_warm_2+'/ver_grid_80_UH_'+str(UH_threshold)+'_Z_'+str(dbz_threshold)+'.nc')\n",
    "new_gomplum_warm_2 = np.where(mask_data.conus.values,gomplum_warm_2.UHdbz_dates.resample(time='12H',base=9).sum('time'),0)\n",
    "\n",
    "murgion_warm_1=xr.open_dataset('/glade/scratch/molina/WRF_HYSPLIT_proj/'+wrf_murgion_warm_1+'/ver_grid_80_UH_'+str(UH_threshold)+'_Z_'+str(dbz_threshold)+'.nc')\n",
    "new_murgion_warm_1 = np.where(mask_data.conus.values,murgion_warm_1.UHdbz_dates.resample(time='12H',base=9).sum('time'),0)\n",
    "\n",
    "murgion_warm_2=xr.open_dataset('/glade/scratch/molina/WRF_HYSPLIT_proj/'+wrf_murgion_warm_2+'/ver_grid_80_UH_'+str(UH_threshold)+'_Z_'+str(dbz_threshold)+'.nc')\n",
    "new_murgion_warm_2 = np.where(mask_data.conus.values,murgion_warm_2.UHdbz_dates.resample(time='12H',base=9).sum('time'),0)\n"
   ]
  },
  {
   "cell_type": "code",
   "execution_count": 15,
   "metadata": {},
   "outputs": [
    {
     "name": "stdout",
     "output_type": "stream",
     "text": [
      "Total 48-h\n",
      " \n",
      "MU -1:  -27.0\n",
      "MU -2:  -29.0\n",
      "PL -1:  -17.0\n",
      "PL -2:  16.0\n",
      "BS -1:  -50.0\n",
      "BS -2:  -8.0\n",
      " \n",
      "MU +1:  -1.0\n",
      "MU +2:  -8.0\n",
      "PL +1:  -28.0\n",
      "PL +2:  17.0\n",
      "BS +1:  -15.0\n",
      "BS +2:  42.0\n"
     ]
    }
   ],
   "source": [
    "print('Total 48-h')\n",
    "print(' ')\n",
    "print('MU -1: ', round(percent_change_scalar(new_murgion_cool_1.sum(),new_control_orig_0.sum())))\n",
    "print('MU -2: ', round(percent_change_scalar(new_murgion_cool_2.sum(),new_control_orig_0.sum())))\n",
    "print('PL -1: ', round(percent_change_scalar(new_gomplum_cool_1.sum(),new_control_orig_0.sum())))\n",
    "print('PL -2: ', round(percent_change_scalar(new_gomplum_cool_2.sum(),new_control_orig_0.sum())))\n",
    "print('BS -1: ', round(percent_change_scalar(new_gombasn_cool_1.sum(),new_control_orig_0.sum())))\n",
    "print('BS -2: ', round(percent_change_scalar(new_gombasn_cool_2.sum(),new_control_orig_0.sum())))\n",
    "print(' ')\n",
    "print('MU +1: ', round(percent_change_scalar(new_murgion_warm_1.sum(),new_control_orig_0.sum())))\n",
    "print('MU +2: ', round(percent_change_scalar(new_murgion_warm_2.sum(),new_control_orig_0.sum())))\n",
    "print('PL +1: ', round(percent_change_scalar(new_gomplum_warm_1.sum(),new_control_orig_0.sum())))\n",
    "print('PL +2: ', round(percent_change_scalar(new_gomplum_warm_2.sum(),new_control_orig_0.sum())))\n",
    "print('BS +1: ', round(percent_change_scalar(new_gombasn_warm_1.sum(),new_control_orig_0.sum())))\n",
    "print('BS +2: ', round(percent_change_scalar(new_gombasn_warm_2.sum(),new_control_orig_0.sum())))"
   ]
  },
  {
   "cell_type": "code",
   "execution_count": 26,
   "metadata": {},
   "outputs": [
    {
     "name": "stdout",
     "output_type": "stream",
     "text": [
      "First 12-h\n",
      " \n",
      "MU -1:  -100.0\n",
      "MU -2:  -100.0\n",
      "PL -1:  -80.0\n",
      "PL -2:  -40.0\n",
      "BS -1:  100.0\n",
      "BS -2:  720.0\n",
      " \n",
      "MU +1:  620.0\n",
      "MU +2:  200.0\n",
      "PL +1:  100.0\n",
      "PL +2:  420.0\n",
      "BS +1:  -80.0\n",
      "BS +2:  -100.0\n"
     ]
    }
   ],
   "source": [
    "print('First 12-h')\n",
    "timeint = 0\n",
    "print(' ')\n",
    "print('MU -1: ', round(percent_change_scalar(new_murgion_cool_1[timeint,:,:].sum(),new_control_orig_0[timeint,:,:].sum())))\n",
    "print('MU -2: ', round(percent_change_scalar(new_murgion_cool_2[timeint,:,:].sum(),new_control_orig_0[timeint,:,:].sum())))\n",
    "print('PL -1: ', round(percent_change_scalar(new_gomplum_cool_1[timeint,:,:].sum(),new_control_orig_0[timeint,:,:].sum())))\n",
    "print('PL -2: ', round(percent_change_scalar(new_gomplum_cool_2[timeint,:,:].sum(),new_control_orig_0[timeint,:,:].sum())))\n",
    "print('BS -1: ', round(percent_change_scalar(new_gombasn_cool_1[timeint,:,:].sum(),new_control_orig_0[timeint,:,:].sum())))\n",
    "print('BS -2: ', round(percent_change_scalar(new_gombasn_cool_2[timeint,:,:].sum(),new_control_orig_0[timeint,:,:].sum())))\n",
    "print(' ')\n",
    "print('MU +1: ', round(percent_change_scalar(new_murgion_warm_1[timeint,:,:].sum(),new_control_orig_0[timeint,:,:].sum())))\n",
    "print('MU +2: ', round(percent_change_scalar(new_murgion_warm_2[timeint,:,:].sum(),new_control_orig_0[timeint,:,:].sum())))\n",
    "print('PL +1: ', round(percent_change_scalar(new_gomplum_warm_1[timeint,:,:].sum(),new_control_orig_0[timeint,:,:].sum())))\n",
    "print('PL +2: ', round(percent_change_scalar(new_gomplum_warm_2[timeint,:,:].sum(),new_control_orig_0[timeint,:,:].sum())))\n",
    "print('BS +1: ', round(percent_change_scalar(new_gombasn_warm_1[timeint,:,:].sum(),new_control_orig_0[timeint,:,:].sum())))\n",
    "print('BS +2: ', round(percent_change_scalar(new_gombasn_warm_2[timeint,:,:].sum(),new_control_orig_0[timeint,:,:].sum())))"
   ]
  },
  {
   "cell_type": "code",
   "execution_count": 30,
   "metadata": {},
   "outputs": [
    {
     "name": "stdout",
     "output_type": "stream",
     "text": [
      "Second 12-h\n",
      " \n",
      "MU -1:  -30.0\n",
      "MU -2:  -29.0\n",
      "PL -1:  -12.0\n",
      "PL -2:  55.0\n",
      "BS -1:  -66.0\n",
      "BS -2:  36.0\n",
      " \n",
      "MU +1:  -9.0\n",
      "MU +2:  -23.0\n",
      "PL +1:  -49.0\n",
      "PL +2:  12.0\n",
      "BS +1:  2.0\n",
      "BS +2:  -47.0\n"
     ]
    }
   ],
   "source": [
    "print('Second 12-h')\n",
    "timeint = 1\n",
    "print(' ')\n",
    "print('MU -1: ', round(percent_change_scalar(new_murgion_cool_1[timeint,:,:].sum(),new_control_orig_0[timeint,:,:].sum())))\n",
    "print('MU -2: ', round(percent_change_scalar(new_murgion_cool_2[timeint,:,:].sum(),new_control_orig_0[timeint,:,:].sum())))\n",
    "print('PL -1: ', round(percent_change_scalar(new_gomplum_cool_1[timeint,:,:].sum(),new_control_orig_0[timeint,:,:].sum())))\n",
    "print('PL -2: ', round(percent_change_scalar(new_gomplum_cool_2[timeint,:,:].sum(),new_control_orig_0[timeint,:,:].sum())))\n",
    "print('BS -1: ', round(percent_change_scalar(new_gombasn_cool_1[timeint,:,:].sum(),new_control_orig_0[timeint,:,:].sum())))\n",
    "print('BS -2: ', round(percent_change_scalar(new_gombasn_cool_2[timeint,:,:].sum(),new_control_orig_0[timeint,:,:].sum())))\n",
    "print(' ')\n",
    "print('MU +1: ', round(percent_change_scalar(new_murgion_warm_1[timeint,:,:].sum(),new_control_orig_0[timeint,:,:].sum())))\n",
    "print('MU +2: ', round(percent_change_scalar(new_murgion_warm_2[timeint,:,:].sum(),new_control_orig_0[timeint,:,:].sum())))\n",
    "print('PL +1: ', round(percent_change_scalar(new_gomplum_warm_1[timeint,:,:].sum(),new_control_orig_0[timeint,:,:].sum())))\n",
    "print('PL +2: ', round(percent_change_scalar(new_gomplum_warm_2[timeint,:,:].sum(),new_control_orig_0[timeint,:,:].sum())))\n",
    "print('BS +1: ', round(percent_change_scalar(new_gombasn_warm_1[timeint,:,:].sum(),new_control_orig_0[timeint,:,:].sum())))\n",
    "print('BS +2: ', round(percent_change_scalar(new_gombasn_warm_2[timeint,:,:].sum(),new_control_orig_0[timeint,:,:].sum())))"
   ]
  },
  {
   "cell_type": "code",
   "execution_count": 31,
   "metadata": {},
   "outputs": [
    {
     "name": "stdout",
     "output_type": "stream",
     "text": [
      "Third 12-h\n",
      " \n",
      "MU -1:  -20.0\n",
      "MU -2:  6.0\n",
      "PL -1:  -14.0\n",
      "PL -2:  25.0\n",
      "BS -1:  -33.0\n",
      "BS -2:  -45.0\n",
      " \n",
      "MU +1:  36.0\n",
      "MU +2:  11.0\n",
      "PL +1:  12.0\n",
      "PL +2:  44.0\n",
      "BS +1:  -10.0\n",
      "BS +2:  181.0\n"
     ]
    }
   ],
   "source": [
    "print('Third 12-h')\n",
    "timeint = 2\n",
    "print(' ')\n",
    "print('MU -1: ', round(percent_change_scalar(new_murgion_cool_1[timeint,:,:].sum(),new_control_orig_0[timeint,:,:].sum())))\n",
    "print('MU -2: ', round(percent_change_scalar(new_murgion_cool_2[timeint,:,:].sum(),new_control_orig_0[timeint,:,:].sum())))\n",
    "print('PL -1: ', round(percent_change_scalar(new_gomplum_cool_1[timeint,:,:].sum(),new_control_orig_0[timeint,:,:].sum())))\n",
    "print('PL -2: ', round(percent_change_scalar(new_gomplum_cool_2[timeint,:,:].sum(),new_control_orig_0[timeint,:,:].sum())))\n",
    "print('BS -1: ', round(percent_change_scalar(new_gombasn_cool_1[timeint,:,:].sum(),new_control_orig_0[timeint,:,:].sum())))\n",
    "print('BS -2: ', round(percent_change_scalar(new_gombasn_cool_2[timeint,:,:].sum(),new_control_orig_0[timeint,:,:].sum())))\n",
    "print(' ')\n",
    "print('MU +1: ', round(percent_change_scalar(new_murgion_warm_1[timeint,:,:].sum(),new_control_orig_0[timeint,:,:].sum())))\n",
    "print('MU +2: ', round(percent_change_scalar(new_murgion_warm_2[timeint,:,:].sum(),new_control_orig_0[timeint,:,:].sum())))\n",
    "print('PL +1: ', round(percent_change_scalar(new_gomplum_warm_1[timeint,:,:].sum(),new_control_orig_0[timeint,:,:].sum())))\n",
    "print('PL +2: ', round(percent_change_scalar(new_gomplum_warm_2[timeint,:,:].sum(),new_control_orig_0[timeint,:,:].sum())))\n",
    "print('BS +1: ', round(percent_change_scalar(new_gombasn_warm_1[timeint,:,:].sum(),new_control_orig_0[timeint,:,:].sum())))\n",
    "print('BS +2: ', round(percent_change_scalar(new_gombasn_warm_2[timeint,:,:].sum(),new_control_orig_0[timeint,:,:].sum())))"
   ]
  },
  {
   "cell_type": "code",
   "execution_count": 32,
   "metadata": {},
   "outputs": [
    {
     "name": "stdout",
     "output_type": "stream",
     "text": [
      "Fourth 12-h\n",
      " \n",
      "MU -1:  -27.0\n",
      "MU -2:  -74.0\n",
      "PL -1:  -22.0\n",
      "PL -2:  -42.0\n",
      "BS -1:  -59.0\n",
      "BS -2:  -54.0\n",
      " \n",
      "MU +1:  -70.0\n",
      "MU +2:  -26.0\n",
      "PL +1:  -62.0\n",
      "PL +2:  -33.0\n",
      "BS +1:  -41.0\n",
      "BS +2:  -21.0\n"
     ]
    }
   ],
   "source": [
    "print('Fourth 12-h')\n",
    "timeint = 3\n",
    "print(' ')\n",
    "print('MU -1: ', round(percent_change_scalar(new_murgion_cool_1[timeint,:,:].sum(),new_control_orig_0[timeint,:,:].sum())))\n",
    "print('MU -2: ', round(percent_change_scalar(new_murgion_cool_2[timeint,:,:].sum(),new_control_orig_0[timeint,:,:].sum())))\n",
    "print('PL -1: ', round(percent_change_scalar(new_gomplum_cool_1[timeint,:,:].sum(),new_control_orig_0[timeint,:,:].sum())))\n",
    "print('PL -2: ', round(percent_change_scalar(new_gomplum_cool_2[timeint,:,:].sum(),new_control_orig_0[timeint,:,:].sum())))\n",
    "print('BS -1: ', round(percent_change_scalar(new_gombasn_cool_1[timeint,:,:].sum(),new_control_orig_0[timeint,:,:].sum())))\n",
    "print('BS -2: ', round(percent_change_scalar(new_gombasn_cool_2[timeint,:,:].sum(),new_control_orig_0[timeint,:,:].sum())))\n",
    "print(' ')\n",
    "print('MU +1: ', round(percent_change_scalar(new_murgion_warm_1[timeint,:,:].sum(),new_control_orig_0[timeint,:,:].sum())))\n",
    "print('MU +2: ', round(percent_change_scalar(new_murgion_warm_2[timeint,:,:].sum(),new_control_orig_0[timeint,:,:].sum())))\n",
    "print('PL +1: ', round(percent_change_scalar(new_gomplum_warm_1[timeint,:,:].sum(),new_control_orig_0[timeint,:,:].sum())))\n",
    "print('PL +2: ', round(percent_change_scalar(new_gomplum_warm_2[timeint,:,:].sum(),new_control_orig_0[timeint,:,:].sum())))\n",
    "print('BS +1: ', round(percent_change_scalar(new_gombasn_warm_1[timeint,:,:].sum(),new_control_orig_0[timeint,:,:].sum())))\n",
    "print('BS +2: ', round(percent_change_scalar(new_gombasn_warm_2[timeint,:,:].sum(),new_control_orig_0[timeint,:,:].sum())))"
   ]
  },
  {
   "cell_type": "code",
   "execution_count": null,
   "metadata": {},
   "outputs": [],
   "source": []
  }
 ],
 "metadata": {
  "kernelspec": {
   "display_name": "Python [conda env:miniconda3-python-tutorial]",
   "language": "python",
   "name": "conda-env-miniconda3-python-tutorial-py"
  },
  "language_info": {
   "codemirror_mode": {
    "name": "ipython",
    "version": 3
   },
   "file_extension": ".py",
   "mimetype": "text/x-python",
   "name": "python",
   "nbconvert_exporter": "python",
   "pygments_lexer": "ipython3",
   "version": "3.7.3"
  }
 },
 "nbformat": 4,
 "nbformat_minor": 4
}
