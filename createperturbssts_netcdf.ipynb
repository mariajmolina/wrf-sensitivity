{
 "cells": [
  {
   "cell_type": "code",
   "execution_count": 39,
   "metadata": {},
   "outputs": [],
   "source": [
    "#imports\n",
    "from __future__ import division\n",
    "\n",
    "import xarray as xr\n",
    "import numpy as np\n",
    "from itertools import product\n",
    "from wrf import getvar, get_basemap\n",
    "from netCDF4 import Dataset\n",
    "import matplotlib.pyplot as plt\n",
    "from matplotlib import path\n",
    "import geopandas as gpd\n",
    "import shapely\n",
    "#import pandas as pd"
   ]
  },
  {
   "cell_type": "code",
   "execution_count": 40,
   "metadata": {},
   "outputs": [
    {
     "name": "stdout",
     "output_type": "stream",
     "text": [
      "First Opened...\n"
     ]
    }
   ],
   "source": [
    "#import basemap proj from wrf\n",
    "file1_wrf_d01 = '/glade/scratch/molina/WRF_HYSPLIT_proj/wrf4km_ens_1/wrfout_d01_2017-01-15_09:00:00'\n",
    "ncfile1_wrf_d01 = Dataset(file1_wrf_d01)\n",
    "while True:\n",
    "    p = np.array([0])\n",
    "    if len(p) == 1:\n",
    "        try: \n",
    "            p = getvar(ncfile1_wrf_d01, \"pressure\")\n",
    "        except ValueError:\n",
    "            continue\n",
    "    if len(p) != 1:\n",
    "        print('First Opened...')\n",
    "        break\n",
    "bm = get_basemap(p)"
   ]
  },
  {
   "cell_type": "code",
   "execution_count": 41,
   "metadata": {},
   "outputs": [],
   "source": [
    "#skin temp import\n",
    "data_skin = xr.open_dataset('/glade/work/molina/DATA/jan2017_synoptic/narr_skin_casestudy.nc', decode_cf=True)\n",
    "data_skin_temp = data_skin.sfc_temp.values\n",
    "data_skin_lats = data_skin.lat.values\n",
    "data_skin_lons = data_skin.lon.values"
   ]
  },
  {
   "cell_type": "code",
   "execution_count": 42,
   "metadata": {},
   "outputs": [],
   "source": [
    "#create regions\n",
    "\n",
    "#MU region\n",
    "box_lats = [ 18.0, 25.0, 25.0, 18.0]\n",
    "box_lons = [-88.,-88.,-85.,-84.0]\n",
    "box_x, box_y = box_lons,box_lats\n",
    "box_xy = zip(box_x, box_y)              \n",
    "box_path = path.Path(np.array(list(box_xy)))\n",
    "box_lats2 = [ 18.0, 21.0, 21.0, 18.0]\n",
    "box_lons2 = [-85.0,-85.0,-77.0,-77.0]\n",
    "box_x2, box_y2 = box_lons2,box_lats2\n",
    "box_xy2 = zip(box_x2, box_y2)              \n",
    "box_path2 = path.Path(np.array(list(box_xy2)))\n",
    "\n",
    "#gom plume region \n",
    "box_lats3 = [ 25.0, 30.5, 30.5, 25.0]\n",
    "box_lons3 = [-84.0,-90.0,-83.0,-81.0]\n",
    "box_x3, box_y3 = box_lons3, box_lats3\n",
    "box_xy3 = zip(box_x3, box_y3)              \n",
    "box_path3 = path.Path(np.array(list(box_xy3)))\n",
    "\n",
    "#gom basin region\n",
    "can = gpd.GeoDataFrame.from_file(\"/glade/work/molina/DATA/ocean_shapefiles/World_Seas_WGS84.shp\")\n",
    "gom = can[can['NAME']=='Gulf of Mexico']\n",
    "studyarea = shapely.geometry.box(bm.llcrnrlon, bm.llcrnrlat, \n",
    "                                 bm.urcrnrlon, bm.urcrnrlat)\n",
    "selection = gom[gom.geometry.intersects(studyarea)]\n",
    "for poly in selection.geometry:\n",
    "    if poly.geom_type == 'Polygon':\n",
    "        mpoly = shapely.ops.transform(bm, poly)\n",
    "    elif poly.geom_type == 'MultiPolygon':\n",
    "        for subpoly in poly:\n",
    "            mpoly = shapely.ops.transform(bm, poly)\n",
    "    else:\n",
    "        print(poly, ' is neither a polygon nor a multi-polygon. Skipping it.')"
   ]
  },
  {
   "cell_type": "code",
   "execution_count": 43,
   "metadata": {},
   "outputs": [],
   "source": [
    "#arrays to create from regions\n",
    "file_of_skintemp_1 = np.zeros((data_skin_temp.shape))\n",
    "file_of_scatters_1 = np.zeros((data_skin_lats.shape))\n",
    "file_of_skintemp_2 = np.zeros((data_skin_temp.shape))\n",
    "file_of_scatters_2 = np.zeros((data_skin_lats.shape))\n",
    "file_of_skintemp_3 = np.zeros((data_skin_temp.shape))\n",
    "file_of_scatters_3 = np.zeros((data_skin_lats.shape))"
   ]
  },
  {
   "cell_type": "code",
   "execution_count": 47,
   "metadata": {},
   "outputs": [
    {
     "name": "stdout",
     "output_type": "stream",
     "text": [
      "0.00% complete...\n",
      "1.03% complete...\n",
      "2.07% complete...\n",
      "3.10% complete...\n",
      "4.14% complete...\n",
      "5.17% complete...\n",
      "6.21% complete...\n",
      "7.24% complete...\n",
      "8.28% complete...\n",
      "9.31% complete...\n",
      "10.34% complete...\n",
      "11.38% complete...\n",
      "12.41% complete...\n",
      "13.45% complete...\n",
      "14.48% complete...\n"
     ]
    },
    {
     "ename": "KeyboardInterrupt",
     "evalue": "",
     "output_type": "error",
     "traceback": [
      "\u001b[0;31m---------------------------------------------------------------------------\u001b[0m",
      "\u001b[0;31mKeyboardInterrupt\u001b[0m                         Traceback (most recent call last)",
      "\u001b[0;32m<ipython-input-47-ff62aed23816>\u001b[0m in \u001b[0;36m<module>\u001b[0;34m\u001b[0m\n\u001b[1;32m     29\u001b[0m             \u001b[0mfile_of_scatters_2\u001b[0m\u001b[0;34m[\u001b[0m\u001b[0mi\u001b[0m\u001b[0;34m,\u001b[0m\u001b[0mj\u001b[0m\u001b[0;34m]\u001b[0m \u001b[0;34m=\u001b[0m \u001b[0;36m1.\u001b[0m\u001b[0;34m\u001b[0m\u001b[0;34m\u001b[0m\u001b[0m\n\u001b[1;32m     30\u001b[0m     \u001b[0;31m#checking if grid point is in GoM basin\u001b[0m\u001b[0;34m\u001b[0m\u001b[0;34m\u001b[0m\u001b[0;34m\u001b[0m\u001b[0m\n\u001b[0;32m---> 31\u001b[0;31m     \u001b[0;32mif\u001b[0m \u001b[0mmpoly\u001b[0m\u001b[0;34m.\u001b[0m\u001b[0mcontains\u001b[0m\u001b[0;34m(\u001b[0m\u001b[0mshapely\u001b[0m\u001b[0;34m.\u001b[0m\u001b[0mgeometry\u001b[0m\u001b[0;34m.\u001b[0m\u001b[0mPoint\u001b[0m\u001b[0;34m(\u001b[0m\u001b[0mbm\u001b[0m\u001b[0;34m(\u001b[0m\u001b[0mdata_skin_lons\u001b[0m\u001b[0;34m[\u001b[0m\u001b[0mi\u001b[0m\u001b[0;34m,\u001b[0m\u001b[0mj\u001b[0m\u001b[0;34m]\u001b[0m\u001b[0;34m,\u001b[0m\u001b[0mdata_skin_lats\u001b[0m\u001b[0;34m[\u001b[0m\u001b[0mi\u001b[0m\u001b[0;34m,\u001b[0m\u001b[0mj\u001b[0m\u001b[0;34m]\u001b[0m\u001b[0;34m)\u001b[0m\u001b[0;34m)\u001b[0m\u001b[0;34m)\u001b[0m\u001b[0;34m:\u001b[0m\u001b[0;34m\u001b[0m\u001b[0;34m\u001b[0m\u001b[0m\n\u001b[0m\u001b[1;32m     32\u001b[0m         \u001b[0mxtemp\u001b[0m\u001b[0;34m,\u001b[0m \u001b[0mytemp\u001b[0m \u001b[0;34m=\u001b[0m \u001b[0mbm\u001b[0m\u001b[0;34m(\u001b[0m\u001b[0mdata_skin_lons\u001b[0m\u001b[0;34m[\u001b[0m\u001b[0mi\u001b[0m\u001b[0;34m,\u001b[0m\u001b[0mj\u001b[0m\u001b[0;34m]\u001b[0m\u001b[0;34m,\u001b[0m\u001b[0mdata_skin_lats\u001b[0m\u001b[0;34m[\u001b[0m\u001b[0mi\u001b[0m\u001b[0;34m,\u001b[0m\u001b[0mj\u001b[0m\u001b[0;34m]\u001b[0m\u001b[0;34m)\u001b[0m\u001b[0;34m\u001b[0m\u001b[0;34m\u001b[0m\u001b[0m\n\u001b[1;32m     33\u001b[0m         \u001b[0;31m#checking if point is over land\u001b[0m\u001b[0;34m\u001b[0m\u001b[0;34m\u001b[0m\u001b[0;34m\u001b[0m\u001b[0m\n",
      "\u001b[0;32m/glade/work/molina/miniconda3/envs/python-tutorial/lib/python3.7/site-packages/shapely/geometry/base.py\u001b[0m in \u001b[0;36mcontains\u001b[0;34m(self, other)\u001b[0m\n\u001b[1;32m    689\u001b[0m     \u001b[0;32mdef\u001b[0m \u001b[0mcontains\u001b[0m\u001b[0;34m(\u001b[0m\u001b[0mself\u001b[0m\u001b[0;34m,\u001b[0m \u001b[0mother\u001b[0m\u001b[0;34m)\u001b[0m\u001b[0;34m:\u001b[0m\u001b[0;34m\u001b[0m\u001b[0;34m\u001b[0m\u001b[0m\n\u001b[1;32m    690\u001b[0m         \u001b[0;34m\"\"\"Returns True if the geometry contains the other, else False\"\"\"\u001b[0m\u001b[0;34m\u001b[0m\u001b[0;34m\u001b[0m\u001b[0m\n\u001b[0;32m--> 691\u001b[0;31m         \u001b[0;32mreturn\u001b[0m \u001b[0mbool\u001b[0m\u001b[0;34m(\u001b[0m\u001b[0mself\u001b[0m\u001b[0;34m.\u001b[0m\u001b[0mimpl\u001b[0m\u001b[0;34m[\u001b[0m\u001b[0;34m'contains'\u001b[0m\u001b[0;34m]\u001b[0m\u001b[0;34m(\u001b[0m\u001b[0mself\u001b[0m\u001b[0;34m,\u001b[0m \u001b[0mother\u001b[0m\u001b[0;34m)\u001b[0m\u001b[0;34m)\u001b[0m\u001b[0;34m\u001b[0m\u001b[0;34m\u001b[0m\u001b[0m\n\u001b[0m\u001b[1;32m    692\u001b[0m \u001b[0;34m\u001b[0m\u001b[0m\n\u001b[1;32m    693\u001b[0m     \u001b[0;32mdef\u001b[0m \u001b[0mcrosses\u001b[0m\u001b[0;34m(\u001b[0m\u001b[0mself\u001b[0m\u001b[0;34m,\u001b[0m \u001b[0mother\u001b[0m\u001b[0;34m)\u001b[0m\u001b[0;34m:\u001b[0m\u001b[0;34m\u001b[0m\u001b[0;34m\u001b[0m\u001b[0m\n",
      "\u001b[0;32m/glade/work/molina/miniconda3/envs/python-tutorial/lib/python3.7/site-packages/shapely/predicates.py\u001b[0m in \u001b[0;36m__call__\u001b[0;34m(self, this, other, *args)\u001b[0m\n\u001b[1;32m     13\u001b[0m         \u001b[0mself\u001b[0m\u001b[0;34m.\u001b[0m\u001b[0m_validate\u001b[0m\u001b[0;34m(\u001b[0m\u001b[0mother\u001b[0m\u001b[0;34m,\u001b[0m \u001b[0mstop_prepared\u001b[0m\u001b[0;34m=\u001b[0m\u001b[0;32mTrue\u001b[0m\u001b[0;34m)\u001b[0m\u001b[0;34m\u001b[0m\u001b[0;34m\u001b[0m\u001b[0m\n\u001b[1;32m     14\u001b[0m         \u001b[0;32mtry\u001b[0m\u001b[0;34m:\u001b[0m\u001b[0;34m\u001b[0m\u001b[0;34m\u001b[0m\u001b[0m\n\u001b[0;32m---> 15\u001b[0;31m             \u001b[0;32mreturn\u001b[0m \u001b[0mself\u001b[0m\u001b[0;34m.\u001b[0m\u001b[0mfn\u001b[0m\u001b[0;34m(\u001b[0m\u001b[0mthis\u001b[0m\u001b[0;34m.\u001b[0m\u001b[0m_geom\u001b[0m\u001b[0;34m,\u001b[0m \u001b[0mother\u001b[0m\u001b[0;34m.\u001b[0m\u001b[0m_geom\u001b[0m\u001b[0;34m,\u001b[0m \u001b[0;34m*\u001b[0m\u001b[0margs\u001b[0m\u001b[0;34m)\u001b[0m\u001b[0;34m\u001b[0m\u001b[0;34m\u001b[0m\u001b[0m\n\u001b[0m\u001b[1;32m     16\u001b[0m         \u001b[0;32mexcept\u001b[0m \u001b[0mPredicateError\u001b[0m \u001b[0;32mas\u001b[0m \u001b[0merr\u001b[0m\u001b[0;34m:\u001b[0m\u001b[0;34m\u001b[0m\u001b[0;34m\u001b[0m\u001b[0m\n\u001b[1;32m     17\u001b[0m             \u001b[0;31m# Dig deeper into causes of errors.\u001b[0m\u001b[0;34m\u001b[0m\u001b[0;34m\u001b[0m\u001b[0;34m\u001b[0m\u001b[0m\n",
      "\u001b[0;32m/glade/work/molina/miniconda3/envs/python-tutorial/lib/python3.7/site-packages/shapely/geos.py\u001b[0m in \u001b[0;36merrcheck_predicate\u001b[0;34m(result, func, argtuple)\u001b[0m\n\u001b[1;32m    543\u001b[0m \u001b[0;34m\u001b[0m\u001b[0m\n\u001b[1;32m    544\u001b[0m \u001b[0;34m\u001b[0m\u001b[0m\n\u001b[0;32m--> 545\u001b[0;31m \u001b[0;32mdef\u001b[0m \u001b[0merrcheck_predicate\u001b[0m\u001b[0;34m(\u001b[0m\u001b[0mresult\u001b[0m\u001b[0;34m,\u001b[0m \u001b[0mfunc\u001b[0m\u001b[0;34m,\u001b[0m \u001b[0margtuple\u001b[0m\u001b[0;34m)\u001b[0m\u001b[0;34m:\u001b[0m\u001b[0;34m\u001b[0m\u001b[0;34m\u001b[0m\u001b[0m\n\u001b[0m\u001b[1;32m    546\u001b[0m     \u001b[0;34m\"\"\"Result is 2 on exception, 1 on True, 0 on False\"\"\"\u001b[0m\u001b[0;34m\u001b[0m\u001b[0;34m\u001b[0m\u001b[0m\n\u001b[1;32m    547\u001b[0m     \u001b[0;32mif\u001b[0m \u001b[0mresult\u001b[0m \u001b[0;34m==\u001b[0m \u001b[0;36m2\u001b[0m\u001b[0;34m:\u001b[0m\u001b[0;34m\u001b[0m\u001b[0;34m\u001b[0m\u001b[0m\n",
      "\u001b[0;31mKeyboardInterrupt\u001b[0m: "
     ]
    }
   ],
   "source": [
    "#looping through regions and data to filter into regions of interest\n",
    "for numer, (i, j) in enumerate(product(range(data_skin_lats[:,0].shape[0]),range(data_skin_lats[0,:].shape[0]))):    \n",
    "    \n",
    "    if numer%1000 == 0:\n",
    "        print('%.2f' % ((numer/(data_skin_lats.shape[0]*data_skin_lats.shape[1]))*100)+'% complete...')\n",
    "    \n",
    "    #checking first MU region\n",
    "    if box_path.contains_point([data_skin_lons[i,j],data_skin_lats[i,j]]):\n",
    "        xtemp, ytemp = bm(data_skin_lons[i,j],data_skin_lats[i,j])\n",
    "        #checking if over land\n",
    "        if not bm.is_land(xtemp, ytemp):\n",
    "            file_of_skintemp_1[:,i,j] = data_skin_temp[:,i,j]\n",
    "            file_of_scatters_1[i,j] = 1.\n",
    "    #only bother doing this if a grid point hasn't been changed from zero\n",
    "    if np.all(file_of_skintemp_1[:,i,j]) == 0:\n",
    "        #checking second MU region\n",
    "        if box_path2.contains_point([data_skin_lons[i,j],data_skin_lats[i,j]]):\n",
    "            xtemp, ytemp = bm(data_skin_lons[i,j],data_skin_lats[i,j])\n",
    "            #checking if over land\n",
    "            if not bm.is_land(xtemp, ytemp):\n",
    "                file_of_skintemp_1[:,i,j] = data_skin_temp[:,i,j]\n",
    "                file_of_scatters_1[i,j] = 1.\n",
    "    #checking GoM plume region\n",
    "    if box_path3.contains_point([data_skin_lons[i,j],data_skin_lats[i,j]]):\n",
    "        xtemp, ytemp = bm(data_skin_lons[i,j],data_skin_lats[i,j])\n",
    "        #checking if over land\n",
    "        if not bm.is_land(xtemp, ytemp):\n",
    "            file_of_skintemp_2[:,i,j] = data_skin_temp[:,i,j]\n",
    "            file_of_scatters_2[i,j] = 1.\n",
    "    #checking if grid point is in GoM basin\n",
    "    if mpoly.contains(shapely.geometry.Point(bm(data_skin_lons[i,j],data_skin_lats[i,j]))):\n",
    "        xtemp, ytemp = bm(data_skin_lons[i,j],data_skin_lats[i,j])\n",
    "        #checking if point is over land\n",
    "        if not bm.is_land(xtemp, ytemp):\n",
    "            file_of_skintemp_3[:,i,j] = data_skin_temp[:,i,j]\n",
    "            file_of_scatters_3[i,j] = 1."
   ]
  },
  {
   "cell_type": "code",
   "execution_count": null,
   "metadata": {},
   "outputs": [],
   "source": [
    "#create lat lon coords for data set\n",
    "x, y = bm(data_skin_lons, data_skin_lats)"
   ]
  },
  {
   "cell_type": "code",
   "execution_count": null,
   "metadata": {},
   "outputs": [],
   "source": [
    "final_filed = xr.Dataset({'mu_region':(['time','x','y'],file_of_skintemp_1),\n",
    "                          'gom_plume':(['time','x','y'],file_of_skintemp_2),\n",
    "                          'gom_basin':(['time','x','y'],file_of_skintemp_3),\n",
    "                          'mu_region_scat':(['x','y'],file_of_scatters_1),\n",
    "                          'gom_plume_scat':(['x','y'],file_of_scatters_2),\n",
    "                          'gom_basin_scat':(['x','y'],file_of_scatters_3)},\n",
    "                          coords={'time':(['time'],data_skin.coords['time']),\n",
    "                                  'lon':(['x','y'],x),\n",
    "                                  'lat':(['x','y'],y)},\n",
    "                          attrs={'File Author':'Maria J. Molina'})\n",
    "        \n",
    "\n",
    "final_filed.to_netcdf('perturb_skin_ssts.nc')"
   ]
  },
  {
   "cell_type": "code",
   "execution_count": 55,
   "metadata": {},
   "outputs": [
    {
     "data": {
      "text/plain": [
       "DatetimeIndex(['2017-01-15 09:00:00', '2017-01-15 12:00:00',\n",
       "               '2017-01-15 15:00:00', '2017-01-15 18:00:00',\n",
       "               '2017-01-15 21:00:00', '2017-01-16 00:00:00',\n",
       "               '2017-01-16 03:00:00', '2017-01-16 06:00:00',\n",
       "               '2017-01-16 09:00:00', '2017-01-16 12:00:00',\n",
       "               '2017-01-16 15:00:00', '2017-01-16 18:00:00',\n",
       "               '2017-01-16 21:00:00', '2017-01-17 00:00:00',\n",
       "               '2017-01-17 03:00:00', '2017-01-17 06:00:00',\n",
       "               '2017-01-17 09:00:00', '2017-01-17 12:00:00',\n",
       "               '2017-01-17 15:00:00', '2017-01-17 18:00:00',\n",
       "               '2017-01-17 21:00:00', '2017-01-18 00:00:00',\n",
       "               '2017-01-18 03:00:00', '2017-01-18 06:00:00',\n",
       "               '2017-01-18 09:00:00', '2017-01-18 12:00:00',\n",
       "               '2017-01-18 15:00:00', '2017-01-18 18:00:00',\n",
       "               '2017-01-18 21:00:00', '2017-01-19 00:00:00',\n",
       "               '2017-01-19 03:00:00', '2017-01-19 06:00:00',\n",
       "               '2017-01-19 09:00:00', '2017-01-19 12:00:00',\n",
       "               '2017-01-19 15:00:00', '2017-01-19 18:00:00',\n",
       "               '2017-01-19 21:00:00', '2017-01-20 00:00:00',\n",
       "               '2017-01-20 03:00:00', '2017-01-20 06:00:00',\n",
       "               '2017-01-20 09:00:00', '2017-01-20 12:00:00',\n",
       "               '2017-01-20 15:00:00', '2017-01-20 18:00:00',\n",
       "               '2017-01-20 21:00:00', '2017-01-21 00:00:00',\n",
       "               '2017-01-21 03:00:00', '2017-01-21 06:00:00',\n",
       "               '2017-01-21 09:00:00', '2017-01-21 12:00:00',\n",
       "               '2017-01-21 15:00:00', '2017-01-21 18:00:00',\n",
       "               '2017-01-21 21:00:00', '2017-01-22 00:00:00',\n",
       "               '2017-01-22 03:00:00', '2017-01-22 06:00:00',\n",
       "               '2017-01-22 09:00:00', '2017-01-22 12:00:00',\n",
       "               '2017-01-22 15:00:00', '2017-01-22 18:00:00',\n",
       "               '2017-01-22 21:00:00', '2017-01-23 00:00:00',\n",
       "               '2017-01-23 03:00:00', '2017-01-23 06:00:00',\n",
       "               '2017-01-23 09:00:00'],\n",
       "              dtype='datetime64[ns]', freq=None)"
      ]
     },
     "execution_count": 55,
     "metadata": {},
     "output_type": "execute_result"
    }
   ],
   "source": [
    "import pandas as pd\n",
    "pd.to_datetime(data_skin.coords['time'].values)"
   ]
  },
  {
   "cell_type": "code",
   "execution_count": null,
   "metadata": {},
   "outputs": [],
   "source": []
  }
 ],
 "metadata": {
  "kernelspec": {
   "display_name": "Python [conda env:python-tutorial]",
   "language": "python",
   "name": "conda-env-python-tutorial-py"
  },
  "language_info": {
   "codemirror_mode": {
    "name": "ipython",
    "version": 3
   },
   "file_extension": ".py",
   "mimetype": "text/x-python",
   "name": "python",
   "nbconvert_exporter": "python",
   "pygments_lexer": "ipython3",
   "version": "3.7.3"
  }
 },
 "nbformat": 4,
 "nbformat_minor": 4
}
