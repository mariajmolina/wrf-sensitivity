{
 "cells": [
  {
   "cell_type": "code",
   "execution_count": 14,
   "metadata": {},
   "outputs": [],
   "source": [
    "import xarray as xr\n",
    "import pandas as pd\n",
    "import numpy as np"
   ]
  },
  {
   "cell_type": "code",
   "execution_count": 15,
   "metadata": {},
   "outputs": [],
   "source": [
    "kelvin = np.ones((65,277,349))*273.15"
   ]
  },
  {
   "cell_type": "code",
   "execution_count": 16,
   "metadata": {},
   "outputs": [
    {
     "name": "stderr",
     "output_type": "stream",
     "text": [
      "/glade/work/molina/miniconda3/envs/python-tutorial/lib/python3.7/site-packages/xarray/conventions.py:494: SerializationWarning: variable 'air' has multiple fill values {9.96921e+36, -9.96921e+36}, decoding all values to NaN.\n",
      "  use_cftime=use_cftime,\n"
     ]
    }
   ],
   "source": [
    "data = xr.open_dataset('/glade/work/molina/DATA/NARR_NETCDF/air.sfc.2017.nc')"
   ]
  },
  {
   "cell_type": "code",
   "execution_count": 17,
   "metadata": {},
   "outputs": [],
   "source": [
    "temp_data = data.air.sel(time=slice('2017-01-15T09:00:00.000000000','2017-01-23T09:00:00.000000000'))"
   ]
  },
  {
   "cell_type": "code",
   "execution_count": 18,
   "metadata": {},
   "outputs": [],
   "source": [
    "temp_file = temp_data - kelvin"
   ]
  },
  {
   "cell_type": "code",
   "execution_count": 19,
   "metadata": {},
   "outputs": [],
   "source": [
    "final_filed = xr.Dataset({'sfc_temp':(['time','x','y'],temp_file)},\n",
    "                        coords={'time':(['time'],temp_data.time.values),\n",
    "                               'lon':(['x','y'],data.coords['lon'].values),\n",
    "                               'lat':(['x','y'],data.coords['lat'].values)},\n",
    "                        attrs={'File Author':'Maria J. Molina'})"
   ]
  },
  {
   "cell_type": "code",
   "execution_count": 20,
   "metadata": {},
   "outputs": [
    {
     "data": {
      "text/plain": [
       "<xarray.Dataset>\n",
       "Dimensions:   (time: 65, x: 277, y: 349)\n",
       "Coordinates:\n",
       "  * time      (time) datetime64[ns] 2017-01-15T09:00:00 ... 2017-01-23T09:00:00\n",
       "    lon       (x, y) float32 -145.5 -145.315 -145.1295 ... -2.643617 -2.569891\n",
       "    lat       (x, y) float32 1.000001 1.104305 1.208292 ... 46.64134 46.3544\n",
       "Dimensions without coordinates: x, y\n",
       "Data variables:\n",
       "    sfc_temp  (time, x, y) float64 26.02 26.08 26.08 26.15 ... nan nan nan nan\n",
       "Attributes:\n",
       "    File Author:  Maria J. Molina"
      ]
     },
     "execution_count": 20,
     "metadata": {},
     "output_type": "execute_result"
    }
   ],
   "source": [
    "final_filed"
   ]
  },
  {
   "cell_type": "code",
   "execution_count": 21,
   "metadata": {},
   "outputs": [],
   "source": [
    "final_filed.to_netcdf('/glade/work/molina/DATA/jan2017_synoptic/narr_skin_casestudy.nc')"
   ]
  },
  {
   "cell_type": "code",
   "execution_count": null,
   "metadata": {},
   "outputs": [],
   "source": []
  }
 ],
 "metadata": {
  "kernelspec": {
   "display_name": "Python [conda env:miniconda3-python-tutorial]",
   "language": "python",
   "name": "conda-env-miniconda3-python-tutorial-py"
  },
  "language_info": {
   "codemirror_mode": {
    "name": "ipython",
    "version": 3
   },
   "file_extension": ".py",
   "mimetype": "text/x-python",
   "name": "python",
   "nbconvert_exporter": "python",
   "pygments_lexer": "ipython3",
   "version": "3.7.3"
  }
 },
 "nbformat": 4,
 "nbformat_minor": 4
}
