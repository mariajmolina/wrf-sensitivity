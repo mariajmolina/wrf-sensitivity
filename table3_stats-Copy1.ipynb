{
 "cells": [
  {
   "cell_type": "code",
   "execution_count": 13,
   "metadata": {},
   "outputs": [],
   "source": [
    "import matplotlib.pyplot as plt\n",
    "import numpy as np\n",
    "from wrf import to_np, getvar, get_basemap, latlon_coords\n",
    "from netCDF4 import Dataset\n",
    "from metpy.plots import colortables\n",
    "from matplotlib import path\n",
    "import geopandas as gpd\n",
    "import shapely\n",
    "from matplotlib.patches import Polygon\n",
    "#import matplotlib.patches as mpatches\n",
    "from matplotlib.collections import PatchCollection\n",
    "from matplotlib.path import Path\n",
    "import matplotlib.patches as patches\n",
    "from descartes import PolygonPatch\n",
    "import xarray as xr\n",
    "from scipy.ndimage import gaussian_filter as gfilt"
   ]
  },
  {
   "cell_type": "code",
   "execution_count": 14,
   "metadata": {},
   "outputs": [],
   "source": [
    "#the control run\n",
    "wrf_control_orig_0 = 'wrf4km_ens_2'\n",
    "\n",
    "wrf_gombasn_cool_1 = 'wrf4km_sst_gombasin_cool_1'\n",
    "wrf_gombasn_cool_2 = 'wrf4km_sst_gombasin_cool_2'\n",
    "wrf_gomplum_cool_1 = 'wrf4km_sst_gomplume_cool_1'\n",
    "wrf_gomplum_cool_2 = 'wrf4km_sst_gomplume_cool_2'\n",
    "wrf_murgion_cool_1 = 'wrf4km_sst_muregion_cool_1'\n",
    "wrf_murgion_cool_2 = 'wrf4km_sst_muregion_cool_2'\n",
    "\n",
    "wrf_gombasn_warm_1 = 'wrf4km_sst_gombasin_warm_1'\n",
    "wrf_gombasn_warm_2 = 'wrf4km_sst_gombasin_warm_2'\n",
    "wrf_gomplum_warm_1 = 'wrf4km_sst_gomplume_warm_1'\n",
    "wrf_gomplum_warm_2 = 'wrf4km_sst_gomplume_warm_2'\n",
    "wrf_murgion_warm_1 = 'wrf4km_sst_muregion_warm_1'\n",
    "wrf_murgion_warm_2 = 'wrf4km_sst_muregion_warm_2'\n",
    "\n",
    "UH_thresholds = np.array([60])\n",
    "\n",
    "mask_data = xr.open_dataset('/glade/work/molina/DATA/usstates_shapefiles/conus_mask_res_80.nc')\n",
    "\n",
    "\n",
    "def percent_change(data1,data2,data_mask):\n",
    "   \n",
    "    return np.divide((data1.UH_dates.where(data_mask.conus.values, 0).sum()-\n",
    "                       data2.UH_dates.where(data_mask.conus.values, 0).sum()),\n",
    "                       data2.UH_dates.where(data_mask.conus.values, 0).sum())*100\n",
    "\n",
    "\n",
    "def percent_change_scalar(data1,data2):\n",
    "   \n",
    "    return np.divide((data1-data2),data2)*100"
   ]
  },
  {
   "cell_type": "code",
   "execution_count": 15,
   "metadata": {},
   "outputs": [],
   "source": [
    "UH_threshold = 60\n",
    "\n",
    "\n",
    "control_orig_0=xr.open_dataset('/glade/work/molina/DATA/jan2017_synoptic/'+wrf_control_orig_0+'/newvert_grid_80_UH_'+str(UH_threshold)+'.nc')\n",
    "new_control_orig_0 = np.where(mask_data.conus.values,control_orig_0.where(control_orig_0.UH_dates == 0, 1).UH_dates.resample(time='12H',base=9).sum('time'),0)\n",
    "\n",
    "gombasn_cool_1=xr.open_dataset('/glade/scratch/molina/'+wrf_gombasn_cool_1+'/vert_grid_80_UH_'+str(UH_threshold)+'.nc')\n",
    "new_gombasn_cool_1 = np.where(mask_data.conus.values,gombasn_cool_1.where(gombasn_cool_1.UH_dates == 0, 1).UH_dates.resample(time='12H',base=9).sum('time'),0)\n",
    "\n",
    "gombasn_cool_2=xr.open_dataset('/glade/scratch/molina/'+wrf_gombasn_cool_2+'/vert_grid_80_UH_'+str(UH_threshold)+'.nc')\n",
    "new_gombasn_cool_2 = np.where(mask_data.conus.values,gombasn_cool_2.where(gombasn_cool_2.UH_dates == 0, 1).UH_dates.resample(time='12H',base=9).sum('time'),0)\n",
    "\n",
    "gomplum_cool_1=xr.open_dataset('/glade/scratch/molina/'+wrf_gomplum_cool_1+'/vert_grid_80_UH_'+str(UH_threshold)+'.nc')\n",
    "new_gomplum_cool_1 = np.where(mask_data.conus.values,gomplum_cool_1.where(gomplum_cool_1.UH_dates == 0, 1).UH_dates.resample(time='12H',base=9).sum('time'),0)\n",
    "\n",
    "gomplum_cool_2=xr.open_dataset('/glade/scratch/molina/'+wrf_gomplum_cool_2+'/vert_grid_80_UH_'+str(UH_threshold)+'.nc')\n",
    "new_gomplum_cool_2 = np.where(mask_data.conus.values,gomplum_cool_2.where(gomplum_cool_2.UH_dates == 0, 1).UH_dates.resample(time='12H',base=9).sum('time'),0)\n",
    "\n",
    "murgion_cool_1=xr.open_dataset('/glade/scratch/molina/'+wrf_murgion_cool_1+'/vert_grid_80_UH_'+str(UH_threshold)+'.nc')\n",
    "new_murgion_cool_1 = np.where(mask_data.conus.values,murgion_cool_1.where(murgion_cool_1.UH_dates == 0, 1).UH_dates.resample(time='12H',base=9).sum('time'),0)\n",
    "\n",
    "murgion_cool_2=xr.open_dataset('/glade/scratch/molina/'+wrf_murgion_cool_2+'/vert_grid_80_UH_'+str(UH_threshold)+'.nc')\n",
    "new_murgion_cool_2 = np.where(mask_data.conus.values,murgion_cool_2.where(murgion_cool_2.UH_dates == 0, 1).UH_dates.resample(time='12H',base=9).sum('time'),0)\n",
    "\n",
    "gombasn_warm_1=xr.open_dataset('/glade/scratch/molina/'+wrf_gombasn_warm_1+'/vert_grid_80_UH_'+str(UH_threshold)+'.nc')\n",
    "new_gombasn_warm_1 = np.where(mask_data.conus.values,gombasn_warm_1.where(gombasn_warm_1.UH_dates == 0, 1).UH_dates.resample(time='12H',base=9).sum('time'),0)\n",
    "\n",
    "gombasn_warm_2=xr.open_dataset('/glade/scratch/molina/'+wrf_gombasn_warm_2+'/vert_grid_80_UH_'+str(UH_threshold)+'.nc')\n",
    "new_gombasn_warm_2 = np.where(mask_data.conus.values,gombasn_warm_2.where(gombasn_warm_2.UH_dates == 0, 1).UH_dates.resample(time='12H',base=9).sum('time'),0)\n",
    "\n",
    "gomplum_warm_1=xr.open_dataset('/glade/scratch/molina/'+wrf_gomplum_warm_1+'/vert_grid_80_UH_'+str(UH_threshold)+'.nc')\n",
    "new_gomplum_warm_1 = np.where(mask_data.conus.values,gomplum_warm_1.where(gomplum_warm_1.UH_dates == 0, 1).UH_dates.resample(time='12H',base=9).sum('time'),0)\n",
    "\n",
    "gomplum_warm_2=xr.open_dataset('/glade/scratch/molina/'+wrf_gomplum_warm_2+'/vert_grid_80_UH_'+str(UH_threshold)+'.nc')\n",
    "new_gomplum_warm_2 = np.where(mask_data.conus.values,gomplum_warm_2.where(gomplum_warm_2.UH_dates == 0, 1).UH_dates.resample(time='12H',base=9).sum('time'),0)\n",
    "\n",
    "murgion_warm_1=xr.open_dataset('/glade/scratch/molina/'+wrf_murgion_warm_1+'/vert_grid_80_UH_'+str(UH_threshold)+'.nc')\n",
    "new_murgion_warm_1 = np.where(mask_data.conus.values,murgion_warm_1.where(murgion_warm_1.UH_dates == 0, 1).UH_dates.resample(time='12H',base=9).sum('time'),0)\n",
    "\n",
    "murgion_warm_2=xr.open_dataset('/glade/scratch/molina/'+wrf_murgion_warm_2+'/vert_grid_80_UH_'+str(UH_threshold)+'.nc')\n",
    "new_murgion_warm_2 = np.where(mask_data.conus.values,murgion_warm_2.where(murgion_warm_2.UH_dates == 0, 1).UH_dates.resample(time='12H',base=9).sum('time'),0)\n"
   ]
  },
  {
   "cell_type": "code",
   "execution_count": 16,
   "metadata": {},
   "outputs": [
    {
     "name": "stdout",
     "output_type": "stream",
     "text": [
      "Total 48-h\n",
      " \n",
      "MU -1:  3.0\n",
      "MU -2:  5.0\n",
      "PL -1:  -14.0\n",
      "PL -2:  4.0\n",
      "BS -1:  5.0\n",
      "BS -2:  7.0\n",
      " \n",
      "MU +1:  9.0\n",
      "MU +2:  9.0\n",
      "PL +1:  7.0\n",
      "PL +2:  11.0\n",
      "BS +1:  -8.0\n",
      "BS +2:  -9.0\n"
     ]
    }
   ],
   "source": [
    "print('Total 48-h')\n",
    "print(' ')\n",
    "print('MU -1: ', round(percent_change_scalar(new_murgion_cool_1.sum(),new_control_orig_0.sum())))\n",
    "print('MU -2: ', round(percent_change_scalar(new_murgion_cool_2.sum(),new_control_orig_0.sum())))\n",
    "print('PL -1: ', round(percent_change_scalar(new_gomplum_cool_1.sum(),new_control_orig_0.sum())))\n",
    "print('PL -2: ', round(percent_change_scalar(new_gomplum_cool_2.sum(),new_control_orig_0.sum())))\n",
    "print('BS -1: ', round(percent_change_scalar(new_gombasn_cool_1.sum(),new_control_orig_0.sum())))\n",
    "print('BS -2: ', round(percent_change_scalar(new_gombasn_cool_2.sum(),new_control_orig_0.sum())))\n",
    "print(' ')\n",
    "print('MU +1: ', round(percent_change_scalar(new_murgion_warm_1.sum(),new_control_orig_0.sum())))\n",
    "print('MU +2: ', round(percent_change_scalar(new_murgion_warm_2.sum(),new_control_orig_0.sum())))\n",
    "print('PL +1: ', round(percent_change_scalar(new_gomplum_warm_1.sum(),new_control_orig_0.sum())))\n",
    "print('PL +2: ', round(percent_change_scalar(new_gomplum_warm_2.sum(),new_control_orig_0.sum())))\n",
    "print('BS +1: ', round(percent_change_scalar(new_gombasn_warm_1.sum(),new_control_orig_0.sum())))\n",
    "print('BS +2: ', round(percent_change_scalar(new_gombasn_warm_2.sum(),new_control_orig_0.sum())))"
   ]
  },
  {
   "cell_type": "code",
   "execution_count": 17,
   "metadata": {},
   "outputs": [
    {
     "name": "stdout",
     "output_type": "stream",
     "text": [
      "First 12-h\n",
      " \n",
      "MU -1:  -80.0\n",
      "MU -2:  -30.0\n",
      "PL -1:  -70.0\n",
      "PL -2:  -10.0\n",
      "BS -1:  20.0\n",
      "BS -2:  50.0\n",
      " \n",
      "MU +1:  150.0\n",
      "MU +2:  110.0\n",
      "PL +1:  0.0\n",
      "PL +2:  70.0\n",
      "BS +1:  -10.0\n",
      "BS +2:  -50.0\n"
     ]
    }
   ],
   "source": [
    "print('First 12-h')\n",
    "timeint = 0\n",
    "print(' ')\n",
    "print('MU -1: ', round(percent_change_scalar(new_murgion_cool_1[timeint,:,:].sum(),new_control_orig_0[timeint,:,:].sum())))\n",
    "print('MU -2: ', round(percent_change_scalar(new_murgion_cool_2[timeint,:,:].sum(),new_control_orig_0[timeint,:,:].sum())))\n",
    "print('PL -1: ', round(percent_change_scalar(new_gomplum_cool_1[timeint,:,:].sum(),new_control_orig_0[timeint,:,:].sum())))\n",
    "print('PL -2: ', round(percent_change_scalar(new_gomplum_cool_2[timeint,:,:].sum(),new_control_orig_0[timeint,:,:].sum())))\n",
    "print('BS -1: ', round(percent_change_scalar(new_gombasn_cool_1[timeint,:,:].sum(),new_control_orig_0[timeint,:,:].sum())))\n",
    "print('BS -2: ', round(percent_change_scalar(new_gombasn_cool_2[timeint,:,:].sum(),new_control_orig_0[timeint,:,:].sum())))\n",
    "print(' ')\n",
    "print('MU +1: ', round(percent_change_scalar(new_murgion_warm_1[timeint,:,:].sum(),new_control_orig_0[timeint,:,:].sum())))\n",
    "print('MU +2: ', round(percent_change_scalar(new_murgion_warm_2[timeint,:,:].sum(),new_control_orig_0[timeint,:,:].sum())))\n",
    "print('PL +1: ', round(percent_change_scalar(new_gomplum_warm_1[timeint,:,:].sum(),new_control_orig_0[timeint,:,:].sum())))\n",
    "print('PL +2: ', round(percent_change_scalar(new_gomplum_warm_2[timeint,:,:].sum(),new_control_orig_0[timeint,:,:].sum())))\n",
    "print('BS +1: ', round(percent_change_scalar(new_gombasn_warm_1[timeint,:,:].sum(),new_control_orig_0[timeint,:,:].sum())))\n",
    "print('BS +2: ', round(percent_change_scalar(new_gombasn_warm_2[timeint,:,:].sum(),new_control_orig_0[timeint,:,:].sum())))"
   ]
  },
  {
   "cell_type": "code",
   "execution_count": 18,
   "metadata": {},
   "outputs": [
    {
     "name": "stdout",
     "output_type": "stream",
     "text": [
      "First 12-h\n",
      " \n",
      " \n"
     ]
    }
   ],
   "source": [
    "print('First 12-h')\n",
    "timeint = 0\n",
    "print(' ')\n",
    "MU_cool_1=round(percent_change_scalar(new_murgion_cool_1[timeint,:,:].sum(),new_control_orig_0[timeint,:,:].sum()))\n",
    "MU_cool_2=round(percent_change_scalar(new_murgion_cool_2[timeint,:,:].sum(),new_control_orig_0[timeint,:,:].sum()))\n",
    "PL_cool_1=round(percent_change_scalar(new_gomplum_cool_1[timeint,:,:].sum(),new_control_orig_0[timeint,:,:].sum()))\n",
    "PL_cool_2=round(percent_change_scalar(new_gomplum_cool_2[timeint,:,:].sum(),new_control_orig_0[timeint,:,:].sum()))\n",
    "BS_cool_1=round(percent_change_scalar(new_gombasn_cool_1[timeint,:,:].sum(),new_control_orig_0[timeint,:,:].sum()))\n",
    "BS_cool_2=round(percent_change_scalar(new_gombasn_cool_2[timeint,:,:].sum(),new_control_orig_0[timeint,:,:].sum()))\n",
    "print(' ')\n",
    "MU_warm_1=round(percent_change_scalar(new_murgion_warm_1[timeint,:,:].sum(),new_control_orig_0[timeint,:,:].sum()))\n",
    "MU_warm_2=round(percent_change_scalar(new_murgion_warm_2[timeint,:,:].sum(),new_control_orig_0[timeint,:,:].sum()))\n",
    "PL_warm_1=round(percent_change_scalar(new_gomplum_warm_1[timeint,:,:].sum(),new_control_orig_0[timeint,:,:].sum()))\n",
    "PL_warm_2=round(percent_change_scalar(new_gomplum_warm_2[timeint,:,:].sum(),new_control_orig_0[timeint,:,:].sum()))\n",
    "BS_warm_1=round(percent_change_scalar(new_gombasn_warm_1[timeint,:,:].sum(),new_control_orig_0[timeint,:,:].sum()))\n",
    "BS_warm_2=round(percent_change_scalar(new_gombasn_warm_2[timeint,:,:].sum(),new_control_orig_0[timeint,:,:].sum()))"
   ]
  },
  {
   "cell_type": "code",
   "execution_count": 8,
   "metadata": {},
   "outputs": [
    {
     "name": "stdout",
     "output_type": "stream",
     "text": [
      "Second 12-h\n",
      " \n",
      "MU -1:  9.0\n",
      "MU -2:  7.0\n",
      "PL -1:  -22.0\n",
      "PL -2:  7.0\n",
      "BS -1:  12.0\n",
      "BS -2:  25.0\n",
      " \n",
      "MU +1:  6.0\n",
      "MU +2:  6.0\n",
      "PL +1:  9.0\n",
      "PL +2:  7.0\n",
      "BS +1:  -11.0\n",
      "BS +2:  -17.0\n"
     ]
    }
   ],
   "source": [
    "print('Second 12-h')\n",
    "timeint = 1\n",
    "print(' ')\n",
    "print('MU -1: ', round(percent_change_scalar(new_murgion_cool_1[timeint,:,:].sum(),new_control_orig_0[timeint,:,:].sum())))\n",
    "print('MU -2: ', round(percent_change_scalar(new_murgion_cool_2[timeint,:,:].sum(),new_control_orig_0[timeint,:,:].sum())))\n",
    "print('PL -1: ', round(percent_change_scalar(new_gomplum_cool_1[timeint,:,:].sum(),new_control_orig_0[timeint,:,:].sum())))\n",
    "print('PL -2: ', round(percent_change_scalar(new_gomplum_cool_2[timeint,:,:].sum(),new_control_orig_0[timeint,:,:].sum())))\n",
    "print('BS -1: ', round(percent_change_scalar(new_gombasn_cool_1[timeint,:,:].sum(),new_control_orig_0[timeint,:,:].sum())))\n",
    "print('BS -2: ', round(percent_change_scalar(new_gombasn_cool_2[timeint,:,:].sum(),new_control_orig_0[timeint,:,:].sum())))\n",
    "print(' ')\n",
    "print('MU +1: ', round(percent_change_scalar(new_murgion_warm_1[timeint,:,:].sum(),new_control_orig_0[timeint,:,:].sum())))\n",
    "print('MU +2: ', round(percent_change_scalar(new_murgion_warm_2[timeint,:,:].sum(),new_control_orig_0[timeint,:,:].sum())))\n",
    "print('PL +1: ', round(percent_change_scalar(new_gomplum_warm_1[timeint,:,:].sum(),new_control_orig_0[timeint,:,:].sum())))\n",
    "print('PL +2: ', round(percent_change_scalar(new_gomplum_warm_2[timeint,:,:].sum(),new_control_orig_0[timeint,:,:].sum())))\n",
    "print('BS +1: ', round(percent_change_scalar(new_gombasn_warm_1[timeint,:,:].sum(),new_control_orig_0[timeint,:,:].sum())))\n",
    "print('BS +2: ', round(percent_change_scalar(new_gombasn_warm_2[timeint,:,:].sum(),new_control_orig_0[timeint,:,:].sum())))"
   ]
  },
  {
   "cell_type": "code",
   "execution_count": 9,
   "metadata": {},
   "outputs": [
    {
     "name": "stdout",
     "output_type": "stream",
     "text": [
      "Third 12-h\n",
      " \n",
      "MU -1:  2.0\n",
      "MU -2:  8.0\n",
      "PL -1:  -6.0\n",
      "PL -2:  10.0\n",
      "BS -1:  2.0\n",
      "BS -2:  -2.0\n",
      " \n",
      "MU +1:  12.0\n",
      "MU +2:  7.0\n",
      "PL +1:  19.0\n",
      "PL +2:  18.0\n",
      "BS +1:  2.0\n",
      "BS +2:  -5.0\n"
     ]
    }
   ],
   "source": [
    "print('Third 12-h')\n",
    "timeint = 2\n",
    "print(' ')\n",
    "print('MU -1: ', round(percent_change_scalar(new_murgion_cool_1[timeint,:,:].sum(),new_control_orig_0[timeint,:,:].sum())))\n",
    "print('MU -2: ', round(percent_change_scalar(new_murgion_cool_2[timeint,:,:].sum(),new_control_orig_0[timeint,:,:].sum())))\n",
    "print('PL -1: ', round(percent_change_scalar(new_gomplum_cool_1[timeint,:,:].sum(),new_control_orig_0[timeint,:,:].sum())))\n",
    "print('PL -2: ', round(percent_change_scalar(new_gomplum_cool_2[timeint,:,:].sum(),new_control_orig_0[timeint,:,:].sum())))\n",
    "print('BS -1: ', round(percent_change_scalar(new_gombasn_cool_1[timeint,:,:].sum(),new_control_orig_0[timeint,:,:].sum())))\n",
    "print('BS -2: ', round(percent_change_scalar(new_gombasn_cool_2[timeint,:,:].sum(),new_control_orig_0[timeint,:,:].sum())))\n",
    "print(' ')\n",
    "print('MU +1: ', round(percent_change_scalar(new_murgion_warm_1[timeint,:,:].sum(),new_control_orig_0[timeint,:,:].sum())))\n",
    "print('MU +2: ', round(percent_change_scalar(new_murgion_warm_2[timeint,:,:].sum(),new_control_orig_0[timeint,:,:].sum())))\n",
    "print('PL +1: ', round(percent_change_scalar(new_gomplum_warm_1[timeint,:,:].sum(),new_control_orig_0[timeint,:,:].sum())))\n",
    "print('PL +2: ', round(percent_change_scalar(new_gomplum_warm_2[timeint,:,:].sum(),new_control_orig_0[timeint,:,:].sum())))\n",
    "print('BS +1: ', round(percent_change_scalar(new_gombasn_warm_1[timeint,:,:].sum(),new_control_orig_0[timeint,:,:].sum())))\n",
    "print('BS +2: ', round(percent_change_scalar(new_gombasn_warm_2[timeint,:,:].sum(),new_control_orig_0[timeint,:,:].sum())))"
   ]
  },
  {
   "cell_type": "code",
   "execution_count": 10,
   "metadata": {},
   "outputs": [
    {
     "name": "stdout",
     "output_type": "stream",
     "text": [
      "Fourth 12-h\n",
      " \n",
      "MU -1:  15.0\n",
      "MU -2:  2.0\n",
      "PL -1:  2.0\n",
      "PL -2:  -10.0\n",
      "BS -1:  -10.0\n",
      "BS -2:  -18.0\n",
      " \n",
      "MU +1:  -28.0\n",
      "MU +2:  -8.0\n",
      "PL +1:  -18.0\n",
      "PL +2:  -10.0\n",
      "BS +1:  -25.0\n",
      "BS +2:  10.0\n"
     ]
    }
   ],
   "source": [
    "print('Fourth 12-h')\n",
    "timeint = 3\n",
    "print(' ')\n",
    "print('MU -1: ', round(percent_change_scalar(new_murgion_cool_1[timeint,:,:].sum(),new_control_orig_0[timeint,:,:].sum())))\n",
    "print('MU -2: ', round(percent_change_scalar(new_murgion_cool_2[timeint,:,:].sum(),new_control_orig_0[timeint,:,:].sum())))\n",
    "print('PL -1: ', round(percent_change_scalar(new_gomplum_cool_1[timeint,:,:].sum(),new_control_orig_0[timeint,:,:].sum())))\n",
    "print('PL -2: ', round(percent_change_scalar(new_gomplum_cool_2[timeint,:,:].sum(),new_control_orig_0[timeint,:,:].sum())))\n",
    "print('BS -1: ', round(percent_change_scalar(new_gombasn_cool_1[timeint,:,:].sum(),new_control_orig_0[timeint,:,:].sum())))\n",
    "print('BS -2: ', round(percent_change_scalar(new_gombasn_cool_2[timeint,:,:].sum(),new_control_orig_0[timeint,:,:].sum())))\n",
    "print(' ')\n",
    "print('MU +1: ', round(percent_change_scalar(new_murgion_warm_1[timeint,:,:].sum(),new_control_orig_0[timeint,:,:].sum())))\n",
    "print('MU +2: ', round(percent_change_scalar(new_murgion_warm_2[timeint,:,:].sum(),new_control_orig_0[timeint,:,:].sum())))\n",
    "print('PL +1: ', round(percent_change_scalar(new_gomplum_warm_1[timeint,:,:].sum(),new_control_orig_0[timeint,:,:].sum())))\n",
    "print('PL +2: ', round(percent_change_scalar(new_gomplum_warm_2[timeint,:,:].sum(),new_control_orig_0[timeint,:,:].sum())))\n",
    "print('BS +1: ', round(percent_change_scalar(new_gombasn_warm_1[timeint,:,:].sum(),new_control_orig_0[timeint,:,:].sum())))\n",
    "print('BS +2: ', round(percent_change_scalar(new_gombasn_warm_2[timeint,:,:].sum(),new_control_orig_0[timeint,:,:].sum())))"
   ]
  },
  {
   "cell_type": "code",
   "execution_count": 20,
   "metadata": {},
   "outputs": [],
   "source": [
    "#the control run\n",
    "wrf_control_orig_0 = 'wrf4km_ens_2'\n",
    "\n",
    "wrf_gombasn_cool_1 = 'WRF10/WRF/run'\n",
    "wrf_gombasn_cool_2 = 'WRF9/WRF/run'\n",
    "wrf_gomplum_cool_1 = 'WRF6/WRF/run'\n",
    "wrf_gomplum_cool_2 = 'WRF5/WRF/run'\n",
    "wrf_murgion_cool_1 = 'WRF2/WRF/run'\n",
    "wrf_murgion_cool_2 = 'WRF1/WRF/run'\n",
    "\n",
    "wrf_gombasn_warm_1 = 'WRF11/WRF/run'\n",
    "wrf_gombasn_warm_2 = 'WRF12/WRF/run'\n",
    "wrf_gomplum_warm_1 = 'WRF7/WRF/run'\n",
    "wrf_gomplum_warm_2 = 'WRF8/WRF/run'\n",
    "wrf_murgion_warm_1 = 'WRF3/WRF/run'\n",
    "wrf_murgion_warm_2 = 'WRF4/WRF/run'\n",
    "\n",
    "UH_thresholds = np.array([60])\n",
    "\n",
    "mask_data = xr.open_dataset('/glade/work/molina/DATA/usstates_shapefiles/conus_mask_res_80.nc')\n",
    "\n",
    "\n",
    "def percent_change(data1,data2,data_mask):\n",
    "   \n",
    "    return np.divide((data1.UH_dates.where(data_mask.conus.values, 0).sum()-\n",
    "                       data2.UH_dates.where(data_mask.conus.values, 0).sum()),\n",
    "                       data2.UH_dates.where(data_mask.conus.values, 0).sum())*100\n",
    "\n",
    "\n",
    "def percent_change_scalar(data1,data2):\n",
    "   \n",
    "    return np.divide((data1-data2),data2)*100"
   ]
  },
  {
   "cell_type": "code",
   "execution_count": 21,
   "metadata": {},
   "outputs": [],
   "source": [
    "UH_threshold = 60\n",
    "\n",
    "\n",
    "control_orig_0=xr.open_dataset('/glade/work/molina/DATA/jan2017_synoptic/'+wrf_control_orig_0+'/newvert_grid_80_UH_'+str(UH_threshold)+'.nc')\n",
    "new_control_orig_0 = np.where(mask_data.conus.values,control_orig_0.where(control_orig_0.UH_dates == 0, 1).UH_dates.resample(time='12H',base=9).sum('time'),0)\n",
    "\n",
    "gombasn_cool_1=xr.open_dataset('/glade/scratch/molina/'+wrf_gombasn_cool_1+'/vert_grid_80_UH_'+str(UH_threshold)+'.nc')\n",
    "new_gombasn_cool_1 = np.where(mask_data.conus.values,gombasn_cool_1.where(gombasn_cool_1.UH_dates == 0, 1).UH_dates.resample(time='12H',base=9).sum('time'),0)\n",
    "\n",
    "gombasn_cool_2=xr.open_dataset('/glade/scratch/molina/'+wrf_gombasn_cool_2+'/vert_grid_80_UH_'+str(UH_threshold)+'.nc')\n",
    "new_gombasn_cool_2 = np.where(mask_data.conus.values,gombasn_cool_2.where(gombasn_cool_2.UH_dates == 0, 1).UH_dates.resample(time='12H',base=9).sum('time'),0)\n",
    "\n",
    "gomplum_cool_1=xr.open_dataset('/glade/scratch/molina/'+wrf_gomplum_cool_1+'/vert_grid_80_UH_'+str(UH_threshold)+'.nc')\n",
    "new_gomplum_cool_1 = np.where(mask_data.conus.values,gomplum_cool_1.where(gomplum_cool_1.UH_dates == 0, 1).UH_dates.resample(time='12H',base=9).sum('time'),0)\n",
    "\n",
    "gomplum_cool_2=xr.open_dataset('/glade/scratch/molina/'+wrf_gomplum_cool_2+'/vert_grid_80_UH_'+str(UH_threshold)+'.nc')\n",
    "new_gomplum_cool_2 = np.where(mask_data.conus.values,gomplum_cool_2.where(gomplum_cool_2.UH_dates == 0, 1).UH_dates.resample(time='12H',base=9).sum('time'),0)\n",
    "\n",
    "murgion_cool_1=xr.open_dataset('/glade/scratch/molina/'+wrf_murgion_cool_1+'/vert_grid_80_UH_'+str(UH_threshold)+'.nc')\n",
    "new_murgion_cool_1 = np.where(mask_data.conus.values,murgion_cool_1.where(murgion_cool_1.UH_dates == 0, 1).UH_dates.resample(time='12H',base=9).sum('time'),0)\n",
    "\n",
    "murgion_cool_2=xr.open_dataset('/glade/scratch/molina/'+wrf_murgion_cool_2+'/vert_grid_80_UH_'+str(UH_threshold)+'.nc')\n",
    "new_murgion_cool_2 = np.where(mask_data.conus.values,murgion_cool_2.where(murgion_cool_2.UH_dates == 0, 1).UH_dates.resample(time='12H',base=9).sum('time'),0)\n",
    "\n",
    "gombasn_warm_1=xr.open_dataset('/glade/scratch/molina/'+wrf_gombasn_warm_1+'/vert_grid_80_UH_'+str(UH_threshold)+'.nc')\n",
    "new_gombasn_warm_1 = np.where(mask_data.conus.values,gombasn_warm_1.where(gombasn_warm_1.UH_dates == 0, 1).UH_dates.resample(time='12H',base=9).sum('time'),0)\n",
    "\n",
    "gombasn_warm_2=xr.open_dataset('/glade/scratch/molina/'+wrf_gombasn_warm_2+'/vert_grid_80_UH_'+str(UH_threshold)+'.nc')\n",
    "new_gombasn_warm_2 = np.where(mask_data.conus.values,gombasn_warm_2.where(gombasn_warm_2.UH_dates == 0, 1).UH_dates.resample(time='12H',base=9).sum('time'),0)\n",
    "\n",
    "gomplum_warm_1=xr.open_dataset('/glade/scratch/molina/'+wrf_gomplum_warm_1+'/vert_grid_80_UH_'+str(UH_threshold)+'.nc')\n",
    "new_gomplum_warm_1 = np.where(mask_data.conus.values,gomplum_warm_1.where(gomplum_warm_1.UH_dates == 0, 1).UH_dates.resample(time='12H',base=9).sum('time'),0)\n",
    "\n",
    "gomplum_warm_2=xr.open_dataset('/glade/scratch/molina/'+wrf_gomplum_warm_2+'/vert_grid_80_UH_'+str(UH_threshold)+'.nc')\n",
    "new_gomplum_warm_2 = np.where(mask_data.conus.values,gomplum_warm_2.where(gomplum_warm_2.UH_dates == 0, 1).UH_dates.resample(time='12H',base=9).sum('time'),0)\n",
    "\n",
    "murgion_warm_1=xr.open_dataset('/glade/scratch/molina/'+wrf_murgion_warm_1+'/vert_grid_80_UH_'+str(UH_threshold)+'.nc')\n",
    "new_murgion_warm_1 = np.where(mask_data.conus.values,murgion_warm_1.where(murgion_warm_1.UH_dates == 0, 1).UH_dates.resample(time='12H',base=9).sum('time'),0)\n",
    "\n",
    "murgion_warm_2=xr.open_dataset('/glade/scratch/molina/'+wrf_murgion_warm_2+'/vert_grid_80_UH_'+str(UH_threshold)+'.nc')\n",
    "new_murgion_warm_2 = np.where(mask_data.conus.values,murgion_warm_2.where(murgion_warm_2.UH_dates == 0, 1).UH_dates.resample(time='12H',base=9).sum('time'),0)\n"
   ]
  },
  {
   "cell_type": "code",
   "execution_count": 22,
   "metadata": {},
   "outputs": [
    {
     "name": "stdout",
     "output_type": "stream",
     "text": [
      "Total 48-h\n",
      " \n",
      "MU -0.5:  3.0\n",
      "MU -1.5:  -1.0\n",
      "PL -0.5:  9.0\n",
      "PL -1.5:  -3.0\n",
      "BS -0.5:  20.0\n",
      "BS -1.5:  16.0\n",
      " \n",
      "MU +0.5:  4.0\n",
      "MU +1.5:  13.0\n",
      "PL +0.5:  -8.0\n",
      "PL +1.5:  -1.0\n",
      "BS +0.5:  -2.0\n",
      "BS +1.5:  -12.0\n"
     ]
    }
   ],
   "source": [
    "print('Total 48-h')\n",
    "print(' ')\n",
    "print('MU -0.5: ', round(percent_change_scalar(new_murgion_cool_1.sum(),new_control_orig_0.sum())))\n",
    "print('MU -1.5: ', round(percent_change_scalar(new_murgion_cool_2.sum(),new_control_orig_0.sum())))\n",
    "print('PL -0.5: ', round(percent_change_scalar(new_gomplum_cool_1.sum(),new_control_orig_0.sum())))\n",
    "print('PL -1.5: ', round(percent_change_scalar(new_gomplum_cool_2.sum(),new_control_orig_0.sum())))\n",
    "print('BS -0.5: ', round(percent_change_scalar(new_gombasn_cool_1.sum(),new_control_orig_0.sum())))\n",
    "print('BS -1.5: ', round(percent_change_scalar(new_gombasn_cool_2.sum(),new_control_orig_0.sum())))\n",
    "print(' ')\n",
    "print('MU +0.5: ', round(percent_change_scalar(new_murgion_warm_1.sum(),new_control_orig_0.sum())))\n",
    "print('MU +1.5: ', round(percent_change_scalar(new_murgion_warm_2.sum(),new_control_orig_0.sum())))\n",
    "print('PL +0.5: ', round(percent_change_scalar(new_gomplum_warm_1.sum(),new_control_orig_0.sum())))\n",
    "print('PL +1.5: ', round(percent_change_scalar(new_gomplum_warm_2.sum(),new_control_orig_0.sum())))\n",
    "print('BS +0.5: ', round(percent_change_scalar(new_gombasn_warm_1.sum(),new_control_orig_0.sum())))\n",
    "print('BS +1.5: ', round(percent_change_scalar(new_gombasn_warm_2.sum(),new_control_orig_0.sum())))"
   ]
  },
  {
   "cell_type": "code",
   "execution_count": 23,
   "metadata": {},
   "outputs": [
    {
     "name": "stdout",
     "output_type": "stream",
     "text": [
      "First 12-h\n",
      " \n",
      "MU -0.5:  -10.0\n",
      "MU -1.5:  -50.0\n",
      "PL -0.5:  20.0\n",
      "PL -1.5:  -30.0\n",
      "BS -0.5:  200.0\n",
      "BS -1.5:  60.0\n",
      " \n",
      "MU +0.5:  -10.0\n",
      "MU +1.5:  120.0\n",
      "PL +0.5:  20.0\n",
      "PL +1.5:  -20.0\n",
      "BS +0.5:  10.0\n",
      "BS +1.5:  -30.0\n"
     ]
    }
   ],
   "source": [
    "print('First 12-h')\n",
    "timeint = 0\n",
    "print(' ')\n",
    "print('MU -0.5: ', round(percent_change_scalar(new_murgion_cool_1[timeint,:,:].sum(),new_control_orig_0[timeint,:,:].sum())))\n",
    "print('MU -1.5: ', round(percent_change_scalar(new_murgion_cool_2[timeint,:,:].sum(),new_control_orig_0[timeint,:,:].sum())))\n",
    "print('PL -0.5: ', round(percent_change_scalar(new_gomplum_cool_1[timeint,:,:].sum(),new_control_orig_0[timeint,:,:].sum())))\n",
    "print('PL -1.5: ', round(percent_change_scalar(new_gomplum_cool_2[timeint,:,:].sum(),new_control_orig_0[timeint,:,:].sum())))\n",
    "print('BS -0.5: ', round(percent_change_scalar(new_gombasn_cool_1[timeint,:,:].sum(),new_control_orig_0[timeint,:,:].sum())))\n",
    "print('BS -1.5: ', round(percent_change_scalar(new_gombasn_cool_2[timeint,:,:].sum(),new_control_orig_0[timeint,:,:].sum())))\n",
    "print(' ')\n",
    "print('MU +0.5: ', round(percent_change_scalar(new_murgion_warm_1[timeint,:,:].sum(),new_control_orig_0[timeint,:,:].sum())))\n",
    "print('MU +1.5: ', round(percent_change_scalar(new_murgion_warm_2[timeint,:,:].sum(),new_control_orig_0[timeint,:,:].sum())))\n",
    "print('PL +0.5: ', round(percent_change_scalar(new_gomplum_warm_1[timeint,:,:].sum(),new_control_orig_0[timeint,:,:].sum())))\n",
    "print('PL +1.5: ', round(percent_change_scalar(new_gomplum_warm_2[timeint,:,:].sum(),new_control_orig_0[timeint,:,:].sum())))\n",
    "print('BS +0.5: ', round(percent_change_scalar(new_gombasn_warm_1[timeint,:,:].sum(),new_control_orig_0[timeint,:,:].sum())))\n",
    "print('BS +1.5: ', round(percent_change_scalar(new_gombasn_warm_2[timeint,:,:].sum(),new_control_orig_0[timeint,:,:].sum())))"
   ]
  },
  {
   "cell_type": "code",
   "execution_count": 24,
   "metadata": {},
   "outputs": [
    {
     "name": "stdout",
     "output_type": "stream",
     "text": [
      "First 12-h\n",
      " \n",
      " \n"
     ]
    }
   ],
   "source": [
    "print('First 12-h')\n",
    "timeint = 0\n",
    "print(' ')\n",
    "MU_cool_05=round(percent_change_scalar(new_murgion_cool_1[timeint,:,:].sum(),new_control_orig_0[timeint,:,:].sum()))\n",
    "MU_cool_15=round(percent_change_scalar(new_murgion_cool_2[timeint,:,:].sum(),new_control_orig_0[timeint,:,:].sum()))\n",
    "PL_cool_05=round(percent_change_scalar(new_gomplum_cool_1[timeint,:,:].sum(),new_control_orig_0[timeint,:,:].sum()))\n",
    "PL_cool_15=round(percent_change_scalar(new_gomplum_cool_2[timeint,:,:].sum(),new_control_orig_0[timeint,:,:].sum()))\n",
    "BS_cool_05=round(percent_change_scalar(new_gombasn_cool_1[timeint,:,:].sum(),new_control_orig_0[timeint,:,:].sum()))\n",
    "BS_cool_15=round(percent_change_scalar(new_gombasn_cool_2[timeint,:,:].sum(),new_control_orig_0[timeint,:,:].sum()))\n",
    "print(' ')\n",
    "MU_warm_05=round(percent_change_scalar(new_murgion_warm_1[timeint,:,:].sum(),new_control_orig_0[timeint,:,:].sum()))\n",
    "MU_warm_15=round(percent_change_scalar(new_murgion_warm_2[timeint,:,:].sum(),new_control_orig_0[timeint,:,:].sum()))\n",
    "PL_warm_05=round(percent_change_scalar(new_gomplum_warm_1[timeint,:,:].sum(),new_control_orig_0[timeint,:,:].sum()))\n",
    "PL_warm_15=round(percent_change_scalar(new_gomplum_warm_2[timeint,:,:].sum(),new_control_orig_0[timeint,:,:].sum()))\n",
    "BS_warm_05=round(percent_change_scalar(new_gombasn_warm_1[timeint,:,:].sum(),new_control_orig_0[timeint,:,:].sum()))\n",
    "BS_warm_15=round(percent_change_scalar(new_gombasn_warm_2[timeint,:,:].sum(),new_control_orig_0[timeint,:,:].sum()))"
   ]
  },
  {
   "cell_type": "code",
   "execution_count": 29,
   "metadata": {},
   "outputs": [
    {
     "data": {
      "text/plain": [
       "array([-2. , -1.5, -1. , -0.5,  0.5,  1. ,  1.5,  2. ])"
      ]
     },
     "execution_count": 29,
     "metadata": {},
     "output_type": "execute_result"
    }
   ],
   "source": [
    "np.array([-2.0,-1.5,-1.0,-0.5,0.5,1.0,1.5,2.0])"
   ]
  },
  {
   "cell_type": "code",
   "execution_count": 31,
   "metadata": {},
   "outputs": [
    {
     "data": {
      "text/plain": [
       "array([-30., -50., -80., -10., -10., 150., 120., 110.])"
      ]
     },
     "execution_count": 31,
     "metadata": {},
     "output_type": "execute_result"
    }
   ],
   "source": [
    "np.array([MU_cool_2,MU_cool_15,MU_cool_1,MU_cool_05,MU_warm_05,MU_warm_1,MU_warm_15,MU_warm_2])"
   ]
  },
  {
   "cell_type": "code",
   "execution_count": 33,
   "metadata": {},
   "outputs": [
    {
     "data": {
      "text/plain": [
       "array([-10., -30., -70.,  20.,  20.,   0., -20.,  70.])"
      ]
     },
     "execution_count": 33,
     "metadata": {},
     "output_type": "execute_result"
    }
   ],
   "source": [
    "np.array([PL_cool_2,PL_cool_15,PL_cool_1,PL_cool_05,PL_warm_05,PL_warm_1,PL_warm_15,PL_warm_2])"
   ]
  },
  {
   "cell_type": "code",
   "execution_count": 32,
   "metadata": {},
   "outputs": [
    {
     "data": {
      "text/plain": [
       "array([ 50.,  60.,  20., 200.,  10., -10., -30., -50.])"
      ]
     },
     "execution_count": 32,
     "metadata": {},
     "output_type": "execute_result"
    }
   ],
   "source": [
    "np.array([BS_cool_2,BS_cool_15,BS_cool_1,BS_cool_05,BS_warm_05,BS_warm_1,BS_warm_15,BS_warm_2])"
   ]
  },
  {
   "cell_type": "code",
   "execution_count": 38,
   "metadata": {},
   "outputs": [],
   "source": [
    "from scipy.stats import pearsonr\n",
    "from scipy.stats import spearmanr"
   ]
  },
  {
   "cell_type": "code",
   "execution_count": 35,
   "metadata": {},
   "outputs": [
    {
     "data": {
      "text/plain": [
       "(0.85, 0.007516757812500004)"
      ]
     },
     "execution_count": 35,
     "metadata": {},
     "output_type": "execute_result"
    }
   ],
   "source": [
    "pearsonr(np.array([-2.0,-1.5,-1.0,-0.5,0.5,1.0,1.5,2.0]), \n",
    "         np.array([MU_cool_2,MU_cool_15,MU_cool_1,MU_cool_05,MU_warm_05,MU_warm_1,MU_warm_15,MU_warm_2]))"
   ]
  },
  {
   "cell_type": "code",
   "execution_count": 39,
   "metadata": {},
   "outputs": [
    {
     "data": {
      "text/plain": [
       "SpearmanrResult(correlation=0.8024095954818835, pvalue=0.016540722800677185)"
      ]
     },
     "execution_count": 39,
     "metadata": {},
     "output_type": "execute_result"
    }
   ],
   "source": [
    "spearmanr(np.array([-2.0,-1.5,-1.0,-0.5,0.5,1.0,1.5,2.0]), \n",
    "          np.array([MU_cool_2,MU_cool_15,MU_cool_1,MU_cool_05,MU_warm_05,MU_warm_1,MU_warm_15,MU_warm_2]))"
   ]
  },
  {
   "cell_type": "code",
   "execution_count": 37,
   "metadata": {},
   "outputs": [
    {
     "data": {
      "text/plain": [
       "(0.5786773742654454, 0.1328712174002979)"
      ]
     },
     "execution_count": 37,
     "metadata": {},
     "output_type": "execute_result"
    }
   ],
   "source": [
    "pearsonr(np.array([-2.0,-1.5,-1.0,-0.5,0.5,1.0,1.5,2.0]), \n",
    "         np.array([PL_cool_2,PL_cool_15,PL_cool_1,PL_cool_05,PL_warm_05,PL_warm_1,PL_warm_15,PL_warm_2]))"
   ]
  },
  {
   "cell_type": "code",
   "execution_count": 40,
   "metadata": {},
   "outputs": [
    {
     "data": {
      "text/plain": [
       "SpearmanrResult(correlation=0.5389318178609664, pvalue=0.16811803527951477)"
      ]
     },
     "execution_count": 40,
     "metadata": {},
     "output_type": "execute_result"
    }
   ],
   "source": [
    "spearmanr(np.array([-2.0,-1.5,-1.0,-0.5,0.5,1.0,1.5,2.0]), \n",
    "          np.array([PL_cool_2,PL_cool_15,PL_cool_1,PL_cool_05,PL_warm_05,PL_warm_1,PL_warm_15,PL_warm_2]))"
   ]
  },
  {
   "cell_type": "code",
   "execution_count": 36,
   "metadata": {},
   "outputs": [
    {
     "data": {
      "text/plain": [
       "(-0.5775720874561836, 0.13378981867900272)"
      ]
     },
     "execution_count": 36,
     "metadata": {},
     "output_type": "execute_result"
    }
   ],
   "source": [
    "pearsonr(np.array([-2.0,-1.5,-1.0,-0.5,0.5,1.0,1.5,2.0]), \n",
    "         np.array([BS_cool_2,BS_cool_15,BS_cool_1,BS_cool_05,BS_warm_05,BS_warm_1,BS_warm_15,BS_warm_2]))"
   ]
  },
  {
   "cell_type": "code",
   "execution_count": 42,
   "metadata": {},
   "outputs": [
    {
     "data": {
      "text/plain": [
       "SpearmanrResult(correlation=-0.8333333333333335, pvalue=0.01017554012345675)"
      ]
     },
     "execution_count": 42,
     "metadata": {},
     "output_type": "execute_result"
    }
   ],
   "source": [
    "spearmanr(np.array([-2.0,-1.5,-1.0,-0.5,0.5,1.0,1.5,2.0]), \n",
    "          np.array([BS_cool_2,BS_cool_15,BS_cool_1,BS_cool_05,BS_warm_05,BS_warm_1,BS_warm_15,BS_warm_2]))"
   ]
  },
  {
   "cell_type": "code",
   "execution_count": 43,
   "metadata": {},
   "outputs": [],
   "source": [
    "import matplotlib.pyplot as plt"
   ]
  },
  {
   "cell_type": "code",
   "execution_count": 45,
   "metadata": {},
   "outputs": [
    {
     "data": {
      "image/png": "[encoded data removed]",
      "text/plain": [
       "<Figure size 432x288 with 1 Axes>"
      ]
     },
     "metadata": {
      "needs_background": "light"
     },
     "output_type": "display_data"
    }
   ],
   "source": [
    "plt.plot(np.array([-2.0,-1.5,-1.0,-0.5,0.5,1.0,1.5,2.0]),\n",
    "         np.array([MU_cool_2,MU_cool_15,MU_cool_1,MU_cool_05,MU_warm_05,MU_warm_1,MU_warm_15,MU_warm_2]))\n",
    "plt.plot(np.array([-2.0,-1.5,-1.0,-0.5,0.5,1.0,1.5,2.0]),\n",
    "         np.array([PL_cool_2,PL_cool_15,PL_cool_1,PL_cool_05,PL_warm_05,PL_warm_1,PL_warm_15,PL_warm_2]))\n",
    "plt.plot(np.array([-2.0,-1.5,-1.0,-0.5,0.5,1.0,1.5,2.0]),\n",
    "         np.array([BS_cool_2,BS_cool_15,BS_cool_1,BS_cool_05,BS_warm_05,BS_warm_1,BS_warm_15,BS_warm_2]))\n",
    "plt.show()"
   ]
  },
  {
   "cell_type": "code",
   "execution_count": null,
   "metadata": {},
   "outputs": [],
   "source": []
  },
  {
   "cell_type": "code",
   "execution_count": null,
   "metadata": {},
   "outputs": [],
   "source": []
  },
  {
   "cell_type": "code",
   "execution_count": 12,
   "metadata": {},
   "outputs": [
    {
     "name": "stdout",
     "output_type": "stream",
     "text": [
      "Second 12-h\n",
      " \n",
      "MU -0.5:  19.0\n",
      "MU -1.5:  10.0\n",
      "PL -0.5:  2.0\n",
      "PL -1.5:  -7.0\n",
      "BS -0.5:  25.0\n",
      "BS -1.5:  32.0\n",
      " \n",
      "MU +0.5:  5.0\n",
      "MU +1.5:  1.0\n",
      "PL +0.5:  -20.0\n",
      "PL +1.5:  -6.0\n",
      "BS +0.5:  -20.0\n",
      "BS +1.5:  -20.0\n"
     ]
    }
   ],
   "source": [
    "print('Second 12-h')\n",
    "timeint = 1\n",
    "print(' ')\n",
    "print('MU -0.5: ', round(percent_change_scalar(new_murgion_cool_1[timeint,:,:].sum(),new_control_orig_0[timeint,:,:].sum())))\n",
    "print('MU -1.5: ', round(percent_change_scalar(new_murgion_cool_2[timeint,:,:].sum(),new_control_orig_0[timeint,:,:].sum())))\n",
    "print('PL -0.5: ', round(percent_change_scalar(new_gomplum_cool_1[timeint,:,:].sum(),new_control_orig_0[timeint,:,:].sum())))\n",
    "print('PL -1.5: ', round(percent_change_scalar(new_gomplum_cool_2[timeint,:,:].sum(),new_control_orig_0[timeint,:,:].sum())))\n",
    "print('BS -0.5: ', round(percent_change_scalar(new_gombasn_cool_1[timeint,:,:].sum(),new_control_orig_0[timeint,:,:].sum())))\n",
    "print('BS -1.5: ', round(percent_change_scalar(new_gombasn_cool_2[timeint,:,:].sum(),new_control_orig_0[timeint,:,:].sum())))\n",
    "print(' ')\n",
    "print('MU +0.5: ', round(percent_change_scalar(new_murgion_warm_1[timeint,:,:].sum(),new_control_orig_0[timeint,:,:].sum())))\n",
    "print('MU +1.5: ', round(percent_change_scalar(new_murgion_warm_2[timeint,:,:].sum(),new_control_orig_0[timeint,:,:].sum())))\n",
    "print('PL +0.5: ', round(percent_change_scalar(new_gomplum_warm_1[timeint,:,:].sum(),new_control_orig_0[timeint,:,:].sum())))\n",
    "print('PL +1.5: ', round(percent_change_scalar(new_gomplum_warm_2[timeint,:,:].sum(),new_control_orig_0[timeint,:,:].sum())))\n",
    "print('BS +0.5: ', round(percent_change_scalar(new_gombasn_warm_1[timeint,:,:].sum(),new_control_orig_0[timeint,:,:].sum())))\n",
    "print('BS +1.5: ', round(percent_change_scalar(new_gombasn_warm_2[timeint,:,:].sum(),new_control_orig_0[timeint,:,:].sum())))"
   ]
  },
  {
   "cell_type": "code",
   "execution_count": null,
   "metadata": {},
   "outputs": [],
   "source": []
  }
 ],
 "metadata": {
  "kernelspec": {
   "display_name": "Python [conda env:miniconda3-python-tutorial]",
   "language": "python",
   "name": "conda-env-miniconda3-python-tutorial-py"
  },
  "language_info": {
   "codemirror_mode": {
    "name": "ipython",
    "version": 3
   },
   "file_extension": ".py",
   "mimetype": "text/x-python",
   "name": "python",
   "nbconvert_exporter": "python",
   "pygments_lexer": "ipython3",
   "version": "3.7.3"
  }
 },
 "nbformat": 4,
 "nbformat_minor": 4
}
